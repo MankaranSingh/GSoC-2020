{
 "cells": [
  {
   "cell_type": "markdown",
   "metadata": {},
   "source": [
    "# Programming Language Classifier"
   ]
  },
  {
   "cell_type": "code",
   "execution_count": 1,
   "metadata": {},
   "outputs": [],
   "source": [
    "import os\n",
    "import re\n",
    "import csv\n",
    "import operator\n",
    "import numpy as np\n",
    "import pandas as pd\n",
    "from os import listdir\n",
    "from collections import *\n",
    "from os.path import isfile, join\n",
    "\n",
    "%matplotlib inline\n",
    "import matplotlib.pyplot as plt\n",
    "%matplotlib inline"
   ]
  },
  {
   "cell_type": "code",
   "execution_count": 2,
   "metadata": {},
   "outputs": [],
   "source": [
    "train_data = np.array(np.load(\"../data/githubtrainingdatacompressed.npz\")['arr_0'])\n",
    "test_data = np.array(np.load(\"../data/githubtestdatacompressed.npz\")['arr_0'])"
   ]
  },
  {
   "cell_type": "code",
   "execution_count": 3,
   "metadata": {},
   "outputs": [],
   "source": [
    "with open('test.py', 'wb') as file:\n",
    "    file.write(train_data[0][0])"
   ]
  },
  {
   "cell_type": "code",
   "execution_count": 4,
   "metadata": {},
   "outputs": [
    {
     "data": {
      "text/plain": [
       "(array([145.,  60., 327.,   0., 128., 322.,   0., 379., 402.,  77.]),\n",
       " array([0. , 0.7, 1.4, 2.1, 2.8, 3.5, 4.2, 4.9, 5.6, 6.3, 7. ]),\n",
       " <a list of 10 Patch objects>)"
      ]
     },
     "execution_count": 4,
     "metadata": {},
     "output_type": "execute_result"
    },
    {
     "data": {
      "image/png": "[encoded data removed]",
      "text/plain": [
       "<Figure size 432x288 with 1 Axes>"
      ]
     },
     "metadata": {
      "needs_background": "light"
     },
     "output_type": "display_data"
    }
   ],
   "source": [
    "plt.hist(train_data[:, 1])"
   ]
  },
  {
   "cell_type": "code",
   "execution_count": 5,
   "metadata": {},
   "outputs": [],
   "source": [
    "pls = {}\n",
    "for row in range(len(train_data)):\n",
    "    if train_data[row][1].decode() not in pls:\n",
    "        pls[train_data[row][1].decode()] = []\n",
    "    pls[train_data[row][1].decode()].append(train_data[row][0].decode())"
   ]
  },
  {
   "cell_type": "code",
   "execution_count": 6,
   "metadata": {},
   "outputs": [],
   "source": [
    "d = []\n",
    "chunk = 1024\n",
    "\n",
    "for i in train_data:\n",
    "        for j in range(0,len(i[0]),chunk):\n",
    "            text = re.sub(' +',' ',\" \".join(re.split(r'[^\\w]', re.sub(re.compile(\"/\\*.*?\\*/\",re.DOTALL ) ,\"\" ,i[0][j:j+chunk].decode('utf-8')))))   \n",
    "            d.append({'text': text, 'pl': i[1].decode()})\n",
    "\n",
    "df = pd.DataFrame(d, columns = ['text', 'pl'])\n",
    "df['text'].replace(' ', np.nan, inplace=True)\n",
    "df = df.dropna()\n",
    "df.to_csv('trainingdata.csv', header=['text','pl'],index=False)"
   ]
  },
  {
   "cell_type": "code",
   "execution_count": 7,
   "metadata": {},
   "outputs": [
    {
     "data": {
      "text/plain": [
       "' prepare event event_bunch Bunch Product self product_name Version self product_version Server self server_name Platform self platform Action action Properties event_properties event_description self _get_description_prefix json dumps event_bunch use_custom_event True if CSS_PRODUCT_EVENT in dir self xcli cmd try send css product event log debug sending css_product_event description s severity s event_description event_severity self xcli cmd css_product_event severity event_severity product self product_name version self product_version server self server_name '"
      ]
     },
     "execution_count": 7,
     "metadata": {},
     "output_type": "execute_result"
    }
   ],
   "source": [
    "df.iloc[3]['text']"
   ]
  },
  {
   "cell_type": "code",
   "execution_count": 17,
   "metadata": {},
   "outputs": [
    {
     "data": {
      "text/plain": [
       "<BarContainer object of 8 artists>"
      ]
     },
     "execution_count": 17,
     "metadata": {},
     "output_type": "execute_result"
    },
    {
     "data": {
      "image/png": "[encoded data removed]",
      "text/plain": [
       "<Figure size 432x288 with 1 Axes>"
      ]
     },
     "metadata": {
      "needs_background": "light"
     },
     "output_type": "display_data"
    }
   ],
   "source": [
    "plt.bar(df['pl'].value_counts().index, df['pl'].value_counts().values)"
   ]
  },
  {
   "cell_type": "code",
   "execution_count": 8,
   "metadata": {},
   "outputs": [],
   "source": [
    "from collections import Counter\n",
    "\n",
    "vocab = Counter()\n",
    "for document in df['text']:\n",
    "    tokens = document.split()\n",
    "    vocab.update(tokens)"
   ]
  },
  {
   "cell_type": "code",
   "execution_count": 9,
   "metadata": {},
   "outputs": [
    {
     "name": "stdout",
     "output_type": "stream",
     "text": [
      "29340\n",
      "[('this', 12198), ('if', 11764), ('return', 11502), ('self', 9975), ('a', 9501), ('0', 8912), ('the', 8416), ('var', 8291), ('function', 7705), ('e', 7519), ('String', 6291), ('import', 5745), ('n', 5251), ('final', 5153), ('t', 5138), ('to', 4891), ('1', 4808), ('for', 4481), ('s', 4449), ('b', 4257), ('i', 4202), ('let', 4193), ('error', 4053), ('err', 3901), ('public', 3745), ('in', 3573), ('else', 3479), ('is', 3457), ('c', 3452), ('null', 3308), ('r', 3149), ('com', 3142), ('nil', 3080), ('func', 2977), ('data', 2961), ('name', 2865), ('d', 2750), ('get', 2738), ('response', 2724), ('new', 2694), ('2', 2548), ('class', 2401), ('fake', 2384), ('of', 2263), ('void', 2204), ('x', 2133), ('length', 2132), ('request', 2105), ('url', 2092), ('and', 2028), ('string', 1944), ('echo', 1885), ('f', 1863), ('static', 1845), ('h', 1841), ('id', 1831), ('type', 1820), ('not', 1783), ('o', 1763), ('body', 1682), ('true', 1669), ('ibm', 1638), ('logger', 1606), ('prototype', 1600), ('private', 1588), ('json', 1573), ('from', 1551), ('og', 1530), ('log', 1528), ('with', 1491), ('_', 1481), ('Error', 1478), ('int', 1462), ('options', 1449), ('callback', 1442), ('value', 1410), ('status', 1410), ('object', 1401), ('g', 1395), ('org', 1375), ('message', 1338), ('http', 1328), ('key', 1322), ('depth0', 1304), ('as', 1285), ('def', 1262), ('The', 1262), ('License', 1257), ('call', 1244), ('be', 1244), ('l', 1213), ('false', 1210), ('Map', 1204), ('image', 1176), ('headers', 1173), ('param', 1152), ('test', 1134), ('case', 1112), ('u', 1111), ('java', 1107)]\n"
     ]
    }
   ],
   "source": [
    "print(len(vocab))\n",
    "print(vocab.most_common(100))"
   ]
  },
  {
   "cell_type": "code",
   "execution_count": 10,
   "metadata": {},
   "outputs": [
    {
     "name": "stdout",
     "output_type": "stream",
     "text": [
      "12791\n"
     ]
    }
   ],
   "source": [
    "min_occurane = 5\n",
    "tokens = [k for k,c in vocab.items() if c >= min_occurane]\n",
    "print(len(tokens))"
   ]
  },
  {
   "cell_type": "code",
   "execution_count": 11,
   "metadata": {},
   "outputs": [],
   "source": [
    "# save list to file\n",
    "def save_list(lines, filename):\n",
    "    # convert lines to a single blob of text\n",
    "    data = '\\n'.join(lines)\n",
    "    file = open(filename, 'w')\n",
    "    file.write(data)\n",
    "    file.close()\n",
    "\n",
    "save_list(tokens, 'vocab.txt')"
   ]
  },
  {
   "cell_type": "code",
   "execution_count": 12,
   "metadata": {
    "collapsed": true
   },
   "outputs": [
    {
     "data": {
      "text/plain": [
       "['Copyright',\n",
       " '2016',\n",
       " 'IBM',\n",
       " 'Corp',\n",
       " 'Licensed',\n",
       " 'under',\n",
       " 'the',\n",
       " 'Apache',\n",
       " 'License',\n",
       " 'Version',\n",
       " '2',\n",
       " '0',\n",
       " 'you',\n",
       " 'may',\n",
       " 'not',\n",
       " 'use',\n",
       " 'this',\n",
       " 'file',\n",
       " 'except',\n",
       " 'in']"
      ]
     },
     "execution_count": 12,
     "metadata": {},
     "output_type": "execute_result"
    }
   ],
   "source": [
    "tokens[:20]"
   ]
  },
  {
   "cell_type": "code",
   "execution_count": 13,
   "metadata": {},
   "outputs": [],
   "source": [
    "def clean_text(text):\n",
    "    \n",
    "    doc_tokens = text.split(' ')\n",
    "    doc_tokens = [w for w in doc_tokens if w in tokens]\n",
    "    doc_tokens = ' '.join(doc_tokens)\n",
    "    \n",
    "    return doc_tokens\n",
    "    \n",
    "new_text = []\n",
    "for text in df['text']:\n",
    "    new_text.append(clean_text(text))"
   ]
  },
  {
   "cell_type": "code",
   "execution_count": 14,
   "metadata": {},
   "outputs": [],
   "source": [
    "df['text'] = np.array(new_text)"
   ]
  },
  {
   "cell_type": "code",
   "execution_count": 15,
   "metadata": {
    "scrolled": true
   },
   "outputs": [
    {
     "data": {
      "text/html": [
       "<div>\n",
       "<style scoped>\n",
       "    .dataframe tbody tr th:only-of-type {\n",
       "        vertical-align: middle;\n",
       "    }\n",
       "\n",
       "    .dataframe tbody tr th {\n",
       "        vertical-align: top;\n",
       "    }\n",
       "\n",
       "    .dataframe thead th {\n",
       "        text-align: right;\n",
       "    }\n",
       "</style>\n",
       "<table border=\"1\" class=\"dataframe\">\n",
       "  <thead>\n",
       "    <tr style=\"text-align: right;\">\n",
       "      <th></th>\n",
       "      <th>text</th>\n",
       "      <th>pl</th>\n",
       "    </tr>\n",
       "  </thead>\n",
       "  <tbody>\n",
       "    <tr>\n",
       "      <th>0</th>\n",
       "      <td>Copyright 2016 IBM Corp Licensed under the Apa...</td>\n",
       "      <td>py</td>\n",
       "    </tr>\n",
       "    <tr>\n",
       "      <th>1</th>\n",
       "      <td>i events platform_info import get_platform_det...</td>\n",
       "      <td>py</td>\n",
       "    </tr>\n",
       "    <tr>\n",
       "      <th>2</th>\n",
       "      <td>params if not self product_name raise ValueErr...</td>\n",
       "      <td>py</td>\n",
       "    </tr>\n",
       "    <tr>\n",
       "      <th>3</th>\n",
       "      <td>prepare event Bunch Product self product_name ...</td>\n",
       "      <td>py</td>\n",
       "    </tr>\n",
       "    <tr>\n",
       "      <th>4</th>\n",
       "      <td>platform self platform action action propertie...</td>\n",
       "      <td>py</td>\n",
       "    </tr>\n",
       "    <tr>\n",
       "      <th>5</th>\n",
       "      <td>xml version 1 0 encoding UTF 8 project xmlns h...</td>\n",
       "      <td>xml</td>\n",
       "    </tr>\n",
       "    <tr>\n",
       "      <th>6</th>\n",
       "      <td>bin bash if ne 1 then echo e Usage 0 id exit f...</td>\n",
       "      <td>sh</td>\n",
       "    </tr>\n",
       "    <tr>\n",
       "      <th>7</th>\n",
       "      <td>import SDWebImageManager h import objc message...</td>\n",
       "      <td>m</td>\n",
       "    </tr>\n",
       "    <tr>\n",
       "      <th>8</th>\n",
       "      <td>self new return instance instancetype init SDI...</td>\n",
       "      <td>m</td>\n",
       "    </tr>\n",
       "    <tr>\n",
       "      <th>9</th>\n",
       "      <td>key BOOL NSURL url NSString key self cacheKeyF...</td>\n",
       "      <td>m</td>\n",
       "    </tr>\n",
       "    <tr>\n",
       "      <th>10</th>\n",
       "      <td>void NSURL url completion SDWebImageCheckCache...</td>\n",
       "      <td>m</td>\n",
       "    </tr>\n",
       "    <tr>\n",
       "      <th>11</th>\n",
       "      <td>prefetchURLs instead common is to send the URL...</td>\n",
       "      <td>m</td>\n",
       "    </tr>\n",
       "    <tr>\n",
       "      <th>12</th>\n",
       "      <td>main code userInfo nil completedBlock nil erro...</td>\n",
       "      <td>m</td>\n",
       "    </tr>\n",
       "    <tr>\n",
       "      <th>13</th>\n",
       "      <td>ache but SDWebImageRefreshCached is provided n...</td>\n",
       "      <td>m</td>\n",
       "    </tr>\n",
       "    <tr>\n",
       "      <th>14</th>\n",
       "      <td>if options downloaderOptions if options downlo...</td>\n",
       "      <td>m</td>\n",
       "    </tr>\n",
       "    <tr>\n",
       "      <th>15</th>\n",
       "      <td>Do nothing if the operation was cancelled See ...</td>\n",
       "      <td>m</td>\n",
       "    </tr>\n",
       "    <tr>\n",
       "      <th>16</th>\n",
       "      <td>error code error code synchronized self failed...</td>\n",
       "      <td>m</td>\n",
       "    </tr>\n",
       "    <tr>\n",
       "      <th>17</th>\n",
       "      <td>selector imageManager dispatch_async 0 UIImage...</td>\n",
       "      <td>m</td>\n",
       "    </tr>\n",
       "    <tr>\n",
       "      <th>18</th>\n",
       "      <td>else if downloadedImage finished self imageCac...</td>\n",
       "      <td>m</td>\n",
       "    </tr>\n",
       "    <tr>\n",
       "      <th>19</th>\n",
       "      <td>cancel synchronized self runningOperations __s...</td>\n",
       "      <td>m</td>\n",
       "    </tr>\n",
       "    <tr>\n",
       "      <th>20</th>\n",
       "      <td>if strongOperation weakOperation isCancelled c...</td>\n",
       "      <td>m</td>\n",
       "    </tr>\n",
       "    <tr>\n",
       "      <th>21</th>\n",
       "      <td>end implementation SDWebImageCombinedOperation...</td>\n",
       "      <td>m</td>\n",
       "    </tr>\n",
       "    <tr>\n",
       "      <th>22</th>\n",
       "      <td>er for the completion block id SDWebImageOpera...</td>\n",
       "      <td>m</td>\n",
       "    </tr>\n",
       "    <tr>\n",
       "      <th>23</th>\n",
       "      <td>import Foundation public protocol IdentityToke...</td>\n",
       "      <td>swift</td>\n",
       "    </tr>\n",
       "    <tr>\n",
       "      <th>24</th>\n",
       "      <td>if defined __has_feature __has_feature objc_ar...</td>\n",
       "      <td>m</td>\n",
       "    </tr>\n",
       "    <tr>\n",
       "      <th>25</th>\n",
       "      <td>ta DemoData demoData if self self init _demoDa...</td>\n",
       "      <td>m</td>\n",
       "    </tr>\n",
       "    <tr>\n",
       "      <th>26</th>\n",
       "      <td>Check to see if we are on iOS 7 if NSFoundatio...</td>\n",
       "      <td>m</td>\n",
       "    </tr>\n",
       "    <tr>\n",
       "      <th>27</th>\n",
       "      <td>ew kCellIdentifier forIndexPath indexPath Grab...</td>\n",
       "      <td>m</td>\n",
       "    </tr>\n",
       "    <tr>\n",
       "      <th>28</th>\n",
       "      <td>has on iOS 8 Check to see if we have a split v...</td>\n",
       "      <td>m</td>\n",
       "    </tr>\n",
       "    <tr>\n",
       "      <th>29</th>\n",
       "      <td>navigationController viewControllers else view...</td>\n",
       "      <td>m</td>\n",
       "    </tr>\n",
       "    <tr>\n",
       "      <th>...</th>\n",
       "      <td>...</td>\n",
       "      <td>...</td>\n",
       "    </tr>\n",
       "    <tr>\n",
       "      <th>9130</th>\n",
       "      <td>Used to persist all logs to the device s file ...</td>\n",
       "      <td>swift</td>\n",
       "    </tr>\n",
       "    <tr>\n",
       "      <th>9131</th>\n",
       "      <td>Logger else let newLogger Logger name identifi...</td>\n",
       "      <td>swift</td>\n",
       "    </tr>\n",
       "    <tr>\n",
       "      <th>9132</th>\n",
       "      <td>These parameters take default values to automa...</td>\n",
       "      <td>swift</td>\n",
       "    </tr>\n",
       "    <tr>\n",
       "      <th>9133</th>\n",
       "      <td>essage The message to log Note Do not supply v...</td>\n",
       "      <td>swift</td>\n",
       "    </tr>\n",
       "    <tr>\n",
       "      <th>9134</th>\n",
       "      <td>on function calledLineNumber line to the other...</td>\n",
       "      <td>swift</td>\n",
       "    </tr>\n",
       "    <tr>\n",
       "      <th>9135</th>\n",
       "      <td>respond to severity guard level rawValue Logge...</td>\n",
       "      <td>swift</td>\n",
       "    </tr>\n",
       "    <tr>\n",
       "      <th>9136</th>\n",
       "      <td>ing loggerName String level LogLevel calledFun...</td>\n",
       "      <td>swift</td>\n",
       "    </tr>\n",
       "    <tr>\n",
       "      <th>9137</th>\n",
       "      <td>package com ibm og json public class ObjectMan...</td>\n",
       "      <td>java</td>\n",
       "    </tr>\n",
       "    <tr>\n",
       "      <th>9138</th>\n",
       "      <td>package com ibm og http import static com goog...</td>\n",
       "      <td>java</td>\n",
       "    </tr>\n",
       "    <tr>\n",
       "      <th>9139</th>\n",
       "      <td>Logger _logger LoggerFactory getLogger Authent...</td>\n",
       "      <td>java</td>\n",
       "    </tr>\n",
       "    <tr>\n",
       "      <th>9140</th>\n",
       "      <td>Override public Method getMethod return this r...</td>\n",
       "      <td>java</td>\n",
       "    </tr>\n",
       "    <tr>\n",
       "      <th>9141</th>\n",
       "      <td>eaders put checkNotNull key checkNotNull value...</td>\n",
       "      <td>java</td>\n",
       "    </tr>\n",
       "    <tr>\n",
       "      <th>9142</th>\n",
       "      <td>public void final long length checkArgument le...</td>\n",
       "      <td>java</td>\n",
       "    </tr>\n",
       "    <tr>\n",
       "      <th>9143</th>\n",
       "      <td>use strict var log4js require log4js nconf req...</td>\n",
       "      <td>js</td>\n",
       "    </tr>\n",
       "    <tr>\n",
       "      <th>9144</th>\n",
       "      <td>err return callback null toolchainId return ge...</td>\n",
       "      <td>js</td>\n",
       "    </tr>\n",
       "    <tr>\n",
       "      <th>9145</th>\n",
       "      <td>callback var logPrefix logBasePath getToolchai...</td>\n",
       "      <td>js</td>\n",
       "    </tr>\n",
       "    <tr>\n",
       "      <th>9146</th>\n",
       "      <td>number of service is not that much if serviceN...</td>\n",
       "      <td>js</td>\n",
       "    </tr>\n",
       "    <tr>\n",
       "      <th>9147</th>\n",
       "      <td>e return callback null serviceName else Found ...</td>\n",
       "      <td>js</td>\n",
       "    </tr>\n",
       "    <tr>\n",
       "      <th>9148</th>\n",
       "      <td>Id serviceName return callback null serviceNam...</td>\n",
       "      <td>js</td>\n",
       "    </tr>\n",
       "    <tr>\n",
       "      <th>9149</th>\n",
       "      <td>Licensed under the Apache License See footer f...</td>\n",
       "      <td>js</td>\n",
       "    </tr>\n",
       "    <tr>\n",
       "      <th>9150</th>\n",
       "      <td>import UIKit class ProfileViewController UIVie...</td>\n",
       "      <td>swift</td>\n",
       "    </tr>\n",
       "    <tr>\n",
       "      <th>9151</th>\n",
       "      <td>view that is shown when the status bar to with...</td>\n",
       "      <td>swift</td>\n",
       "    </tr>\n",
       "    <tr>\n",
       "      <th>9152</th>\n",
       "      <td>override func viewWillAppear _ animated Bool U...</td>\n",
       "      <td>swift</td>\n",
       "    </tr>\n",
       "    <tr>\n",
       "      <th>9153</th>\n",
       "      <td>frame UIApplication shared statusBarFrame view...</td>\n",
       "      <td>swift</td>\n",
       "    </tr>\n",
       "    <tr>\n",
       "      <th>9154</th>\n",
       "      <td>view frame width height kHeaderImageViewHeight...</td>\n",
       "      <td>swift</td>\n",
       "    </tr>\n",
       "    <tr>\n",
       "      <th>9155</th>\n",
       "      <td>300 tableView backgroundColor UIColor clear fu...</td>\n",
       "      <td>swift</td>\n",
       "    </tr>\n",
       "    <tr>\n",
       "      <th>9156</th>\n",
       "      <td>return viewModel numberOfItemsInSection sectio...</td>\n",
       "      <td>swift</td>\n",
       "    </tr>\n",
       "    <tr>\n",
       "      <th>9157</th>\n",
       "      <td>c tableView _ tableView UITableView didSelectR...</td>\n",
       "      <td>swift</td>\n",
       "    </tr>\n",
       "    <tr>\n",
       "      <th>9158</th>\n",
       "      <td>tableView tableView func tableView _ tableView...</td>\n",
       "      <td>swift</td>\n",
       "    </tr>\n",
       "    <tr>\n",
       "      <th>9159</th>\n",
       "      <td>headerImageView frame origin y scrollViewConte...</td>\n",
       "      <td>swift</td>\n",
       "    </tr>\n",
       "  </tbody>\n",
       "</table>\n",
       "<p>9147 rows × 2 columns</p>\n",
       "</div>"
      ],
      "text/plain": [
       "                                                   text     pl\n",
       "0     Copyright 2016 IBM Corp Licensed under the Apa...     py\n",
       "1     i events platform_info import get_platform_det...     py\n",
       "2     params if not self product_name raise ValueErr...     py\n",
       "3     prepare event Bunch Product self product_name ...     py\n",
       "4     platform self platform action action propertie...     py\n",
       "5     xml version 1 0 encoding UTF 8 project xmlns h...    xml\n",
       "6     bin bash if ne 1 then echo e Usage 0 id exit f...     sh\n",
       "7     import SDWebImageManager h import objc message...      m\n",
       "8     self new return instance instancetype init SDI...      m\n",
       "9     key BOOL NSURL url NSString key self cacheKeyF...      m\n",
       "10    void NSURL url completion SDWebImageCheckCache...      m\n",
       "11    prefetchURLs instead common is to send the URL...      m\n",
       "12    main code userInfo nil completedBlock nil erro...      m\n",
       "13    ache but SDWebImageRefreshCached is provided n...      m\n",
       "14    if options downloaderOptions if options downlo...      m\n",
       "15    Do nothing if the operation was cancelled See ...      m\n",
       "16    error code error code synchronized self failed...      m\n",
       "17    selector imageManager dispatch_async 0 UIImage...      m\n",
       "18    else if downloadedImage finished self imageCac...      m\n",
       "19    cancel synchronized self runningOperations __s...      m\n",
       "20    if strongOperation weakOperation isCancelled c...      m\n",
       "21    end implementation SDWebImageCombinedOperation...      m\n",
       "22    er for the completion block id SDWebImageOpera...      m\n",
       "23    import Foundation public protocol IdentityToke...  swift\n",
       "24    if defined __has_feature __has_feature objc_ar...      m\n",
       "25    ta DemoData demoData if self self init _demoDa...      m\n",
       "26    Check to see if we are on iOS 7 if NSFoundatio...      m\n",
       "27    ew kCellIdentifier forIndexPath indexPath Grab...      m\n",
       "28    has on iOS 8 Check to see if we have a split v...      m\n",
       "29    navigationController viewControllers else view...      m\n",
       "...                                                 ...    ...\n",
       "9130  Used to persist all logs to the device s file ...  swift\n",
       "9131  Logger else let newLogger Logger name identifi...  swift\n",
       "9132  These parameters take default values to automa...  swift\n",
       "9133  essage The message to log Note Do not supply v...  swift\n",
       "9134  on function calledLineNumber line to the other...  swift\n",
       "9135  respond to severity guard level rawValue Logge...  swift\n",
       "9136  ing loggerName String level LogLevel calledFun...  swift\n",
       "9137  package com ibm og json public class ObjectMan...   java\n",
       "9138  package com ibm og http import static com goog...   java\n",
       "9139  Logger _logger LoggerFactory getLogger Authent...   java\n",
       "9140  Override public Method getMethod return this r...   java\n",
       "9141  eaders put checkNotNull key checkNotNull value...   java\n",
       "9142  public void final long length checkArgument le...   java\n",
       "9143  use strict var log4js require log4js nconf req...     js\n",
       "9144  err return callback null toolchainId return ge...     js\n",
       "9145  callback var logPrefix logBasePath getToolchai...     js\n",
       "9146  number of service is not that much if serviceN...     js\n",
       "9147  e return callback null serviceName else Found ...     js\n",
       "9148  Id serviceName return callback null serviceNam...     js\n",
       "9149  Licensed under the Apache License See footer f...     js\n",
       "9150  import UIKit class ProfileViewController UIVie...  swift\n",
       "9151  view that is shown when the status bar to with...  swift\n",
       "9152  override func viewWillAppear _ animated Bool U...  swift\n",
       "9153  frame UIApplication shared statusBarFrame view...  swift\n",
       "9154  view frame width height kHeaderImageViewHeight...  swift\n",
       "9155  300 tableView backgroundColor UIColor clear fu...  swift\n",
       "9156  return viewModel numberOfItemsInSection sectio...  swift\n",
       "9157  c tableView _ tableView UITableView didSelectR...  swift\n",
       "9158  tableView tableView func tableView _ tableView...  swift\n",
       "9159  headerImageView frame origin y scrollViewConte...  swift\n",
       "\n",
       "[9147 rows x 2 columns]"
      ]
     },
     "execution_count": 15,
     "metadata": {},
     "output_type": "execute_result"
    }
   ],
   "source": [
    "df"
   ]
  },
  {
   "cell_type": "code",
   "execution_count": 16,
   "metadata": {
    "collapsed": true
   },
   "outputs": [
    {
     "name": "stderr",
     "output_type": "stream",
     "text": [
      "Using TensorFlow backend.\n",
      "c:\\users\\asus\\appdata\\local\\programs\\python\\python37\\lib\\site-packages\\tensorflow\\python\\framework\\dtypes.py:516: FutureWarning: Passing (type, 1) or '1type' as a synonym of type is deprecated; in a future version of numpy, it will be understood as (type, (1,)) / '(1,)type'.\n",
      "  _np_qint8 = np.dtype([(\"qint8\", np.int8, 1)])\n",
      "c:\\users\\asus\\appdata\\local\\programs\\python\\python37\\lib\\site-packages\\tensorflow\\python\\framework\\dtypes.py:517: FutureWarning: Passing (type, 1) or '1type' as a synonym of type is deprecated; in a future version of numpy, it will be understood as (type, (1,)) / '(1,)type'.\n",
      "  _np_quint8 = np.dtype([(\"quint8\", np.uint8, 1)])\n",
      "c:\\users\\asus\\appdata\\local\\programs\\python\\python37\\lib\\site-packages\\tensorflow\\python\\framework\\dtypes.py:518: FutureWarning: Passing (type, 1) or '1type' as a synonym of type is deprecated; in a future version of numpy, it will be understood as (type, (1,)) / '(1,)type'.\n",
      "  _np_qint16 = np.dtype([(\"qint16\", np.int16, 1)])\n",
      "c:\\users\\asus\\appdata\\local\\programs\\python\\python37\\lib\\site-packages\\tensorflow\\python\\framework\\dtypes.py:519: FutureWarning: Passing (type, 1) or '1type' as a synonym of type is deprecated; in a future version of numpy, it will be understood as (type, (1,)) / '(1,)type'.\n",
      "  _np_quint16 = np.dtype([(\"quint16\", np.uint16, 1)])\n",
      "c:\\users\\asus\\appdata\\local\\programs\\python\\python37\\lib\\site-packages\\tensorflow\\python\\framework\\dtypes.py:520: FutureWarning: Passing (type, 1) or '1type' as a synonym of type is deprecated; in a future version of numpy, it will be understood as (type, (1,)) / '(1,)type'.\n",
      "  _np_qint32 = np.dtype([(\"qint32\", np.int32, 1)])\n",
      "c:\\users\\asus\\appdata\\local\\programs\\python\\python37\\lib\\site-packages\\tensorflow\\python\\framework\\dtypes.py:525: FutureWarning: Passing (type, 1) or '1type' as a synonym of type is deprecated; in a future version of numpy, it will be understood as (type, (1,)) / '(1,)type'.\n",
      "  np_resource = np.dtype([(\"resource\", np.ubyte, 1)])\n",
      "c:\\users\\asus\\appdata\\local\\programs\\python\\python37\\lib\\site-packages\\tensorboard\\compat\\tensorflow_stub\\dtypes.py:541: FutureWarning: Passing (type, 1) or '1type' as a synonym of type is deprecated; in a future version of numpy, it will be understood as (type, (1,)) / '(1,)type'.\n",
      "  _np_qint8 = np.dtype([(\"qint8\", np.int8, 1)])\n",
      "c:\\users\\asus\\appdata\\local\\programs\\python\\python37\\lib\\site-packages\\tensorboard\\compat\\tensorflow_stub\\dtypes.py:542: FutureWarning: Passing (type, 1) or '1type' as a synonym of type is deprecated; in a future version of numpy, it will be understood as (type, (1,)) / '(1,)type'.\n",
      "  _np_quint8 = np.dtype([(\"quint8\", np.uint8, 1)])\n",
      "c:\\users\\asus\\appdata\\local\\programs\\python\\python37\\lib\\site-packages\\tensorboard\\compat\\tensorflow_stub\\dtypes.py:543: FutureWarning: Passing (type, 1) or '1type' as a synonym of type is deprecated; in a future version of numpy, it will be understood as (type, (1,)) / '(1,)type'.\n",
      "  _np_qint16 = np.dtype([(\"qint16\", np.int16, 1)])\n",
      "c:\\users\\asus\\appdata\\local\\programs\\python\\python37\\lib\\site-packages\\tensorboard\\compat\\tensorflow_stub\\dtypes.py:544: FutureWarning: Passing (type, 1) or '1type' as a synonym of type is deprecated; in a future version of numpy, it will be understood as (type, (1,)) / '(1,)type'.\n",
      "  _np_quint16 = np.dtype([(\"quint16\", np.uint16, 1)])\n",
      "c:\\users\\asus\\appdata\\local\\programs\\python\\python37\\lib\\site-packages\\tensorboard\\compat\\tensorflow_stub\\dtypes.py:545: FutureWarning: Passing (type, 1) or '1type' as a synonym of type is deprecated; in a future version of numpy, it will be understood as (type, (1,)) / '(1,)type'.\n",
      "  _np_qint32 = np.dtype([(\"qint32\", np.int32, 1)])\n",
      "c:\\users\\asus\\appdata\\local\\programs\\python\\python37\\lib\\site-packages\\tensorboard\\compat\\tensorflow_stub\\dtypes.py:550: FutureWarning: Passing (type, 1) or '1type' as a synonym of type is deprecated; in a future version of numpy, it will be understood as (type, (1,)) / '(1,)type'.\n",
      "  np_resource = np.dtype([(\"resource\", np.ubyte, 1)])\n"
     ]
    }
   ],
   "source": [
    "from keras.preprocessing.text import Tokenizer\n",
    "\n",
    "tokenizer = Tokenizer()\n",
    "tokenizer.fit_on_texts(df['text'])"
   ]
  },
  {
   "cell_type": "code",
   "execution_count": 17,
   "metadata": {},
   "outputs": [],
   "source": [
    "encoded_docs = tokenizer.texts_to_sequences(df['text'])"
   ]
  },
  {
   "cell_type": "code",
   "execution_count": 18,
   "metadata": {},
   "outputs": [],
   "source": [
    "from keras.preprocessing.sequence import pad_sequences\n",
    "\n",
    "max_length = max([len(s.split()) for s in df['text']])\n",
    "X = pad_sequences(encoded_docs, maxlen=max_length, padding='post')"
   ]
  },
  {
   "cell_type": "code",
   "execution_count": 19,
   "metadata": {},
   "outputs": [
    {
     "data": {
      "text/plain": [
       "319"
      ]
     },
     "execution_count": 19,
     "metadata": {},
     "output_type": "execute_result"
    }
   ],
   "source": [
    "max_length"
   ]
  },
  {
   "cell_type": "code",
   "execution_count": 20,
   "metadata": {
    "scrolled": true
   },
   "outputs": [
    {
     "data": {
      "text/plain": [
       "array([7869, 1185,  192,   38,  240,  228,   37,   53,  516, 1602,  828,\n",
       "       4130,   75,   43,    7,    7,  192,   38,  240,  228,   37,   53,\n",
       "        516, 1602, 4529,  828, 4130,   75,   19,  738,    7,  192,   38,\n",
       "        240,  228,   37,   53,  516, 6565,  828, 7870,   75,  282,    7,\n",
       "          7,  192,   38,  240,  228,   37,   53,  250,  449, 1508, 4530,\n",
       "         78,  516,  828, 7870,   75,  282,    7,    7,  192,   38,  240,\n",
       "        228,   37,   53, 1156,   78,  516, 4130,   75,  282,    7,    7,\n",
       "        192,   38,  240,  228,   37,   53,  250, 1809,  356,  250, 4131,\n",
       "         85,   78,  516,  828, 4130,   75,    7,  738,    7,  192,   38,\n",
       "        240,  228,   37,   53,  250, 1809,  356,  250, 1656, 7871,  516,\n",
       "        828, 4130,   75,    7,  388,    7,  192,   38,  240,  228,   37,\n",
       "         53,  250, 1809,  356, 7871,  516,  828, 4130,   75,    7,  546,\n",
       "          7,    0,    0,    0,    0,    0,    0,    0,    0,    0,    0,\n",
       "          0,    0,    0,    0,    0,    0,    0,    0,    0,    0,    0,\n",
       "          0,    0,    0,    0,    0,    0,    0,    0,    0,    0,    0,\n",
       "          0,    0,    0,    0,    0,    0,    0,    0,    0,    0,    0,\n",
       "          0,    0,    0,    0,    0,    0,    0,    0,    0,    0,    0,\n",
       "          0,    0,    0,    0,    0,    0,    0,    0,    0,    0,    0,\n",
       "          0,    0,    0,    0,    0,    0,    0,    0,    0,    0,    0,\n",
       "          0,    0,    0,    0,    0,    0,    0,    0,    0,    0,    0,\n",
       "          0,    0,    0,    0,    0,    0,    0,    0,    0,    0,    0,\n",
       "          0,    0,    0,    0,    0,    0,    0,    0,    0,    0,    0,\n",
       "          0,    0,    0,    0,    0,    0,    0,    0,    0,    0,    0,\n",
       "          0,    0,    0,    0,    0,    0,    0,    0,    0,    0,    0,\n",
       "          0,    0,    0,    0,    0,    0,    0,    0,    0,    0,    0,\n",
       "          0,    0,    0,    0,    0,    0,    0,    0,    0,    0,    0,\n",
       "          0,    0,    0,    0,    0,    0,    0,    0,    0,    0,    0,\n",
       "          0,    0,    0,    0,    0,    0,    0,    0,    0,    0,    0,\n",
       "          0,    0,    0,    0,    0,    0,    0,    0,    0,    0,    0])"
      ]
     },
     "execution_count": 20,
     "metadata": {},
     "output_type": "execute_result"
    }
   ],
   "source": [
    "X[69]"
   ]
  },
  {
   "cell_type": "code",
   "execution_count": 21,
   "metadata": {},
   "outputs": [],
   "source": [
    "vocab_size = len(tokenizer.word_index) + 1"
   ]
  },
  {
   "cell_type": "code",
   "execution_count": 25,
   "metadata": {},
   "outputs": [
    {
     "name": "stdout",
     "output_type": "stream",
     "text": [
      "_________________________________________________________________\n",
      "Layer (type)                 Output Shape              Param #   \n",
      "=================================================================\n",
      "embedding_4 (Embedding)      (None, 319, 100)          996200    \n",
      "_________________________________________________________________\n",
      "conv1d_4 (Conv1D)            (None, 312, 16)           12816     \n",
      "_________________________________________________________________\n",
      "max_pooling1d_4 (MaxPooling1 (None, 156, 16)           0         \n",
      "_________________________________________________________________\n",
      "flatten_4 (Flatten)          (None, 2496)              0         \n",
      "_________________________________________________________________\n",
      "dense_7 (Dense)              (None, 32)                79904     \n",
      "_________________________________________________________________\n",
      "dropout_4 (Dropout)          (None, 32)                0         \n",
      "_________________________________________________________________\n",
      "re_lu_4 (ReLU)               (None, 32)                0         \n",
      "_________________________________________________________________\n",
      "dense_8 (Dense)              (None, 8)                 264       \n",
      "=================================================================\n",
      "Total params: 1,089,184\n",
      "Trainable params: 1,089,184\n",
      "Non-trainable params: 0\n",
      "_________________________________________________________________\n"
     ]
    }
   ],
   "source": [
    "from keras.models import Sequential\n",
    "from keras.layers import Embedding, Conv1D, MaxPooling1D, Flatten, Dense, Dropout, ReLU\n",
    "\n",
    "model = Sequential()\n",
    "\n",
    "model.add(Embedding(vocab_size, 100, input_length=max_length))\n",
    "\n",
    "model.add(Conv1D(filters=16, kernel_size=8, activation='relu'))\n",
    "model.add(MaxPooling1D(pool_size=2))\n",
    "\n",
    "model.add(Flatten())\n",
    "\n",
    "model.add(Dense(32, activation='relu'))\n",
    "model.add(Dropout(0.5))\n",
    "model.add(ReLU())\n",
    "\n",
    "model.add(Dense(8, activation='softmax'))\n",
    "\n",
    "model.summary()"
   ]
  },
  {
   "cell_type": "code",
   "execution_count": 26,
   "metadata": {},
   "outputs": [
    {
     "name": "stdout",
     "output_type": "stream",
     "text": [
      "WARNING:tensorflow:From c:\\users\\asus\\appdata\\local\\programs\\python\\python37\\lib\\site-packages\\keras\\optimizers.py:790: The name tf.train.Optimizer is deprecated. Please use tf.compat.v1.train.Optimizer instead.\n",
      "\n",
      "WARNING:tensorflow:From c:\\users\\asus\\appdata\\local\\programs\\python\\python37\\lib\\site-packages\\keras\\backend\\tensorflow_backend.py:3295: The name tf.log is deprecated. Please use tf.math.log instead.\n",
      "\n"
     ]
    }
   ],
   "source": [
    "model.compile(loss='categorical_crossentropy', optimizer='adam', metrics=['accuracy'])"
   ]
  },
  {
   "cell_type": "code",
   "execution_count": 27,
   "metadata": {},
   "outputs": [],
   "source": [
    "from sklearn.model_selection import train_test_split\n",
    "\n",
    "xTrain, xTest, yTrain, yTest = train_test_split(X, df['pl'], test_size = 0.2, random_state = 42)"
   ]
  },
  {
   "cell_type": "code",
   "execution_count": 28,
   "metadata": {},
   "outputs": [
    {
     "data": {
      "text/plain": [
       "<BarContainer object of 8 artists>"
      ]
     },
     "execution_count": 28,
     "metadata": {},
     "output_type": "execute_result"
    },
    {
     "data": {
      "image/png": "[encoded data removed]",
      "text/plain": [
       "<Figure size 432x288 with 1 Axes>"
      ]
     },
     "metadata": {
      "needs_background": "light"
     },
     "output_type": "display_data"
    }
   ],
   "source": [
    "plt.bar(yTrain.value_counts().index, yTrain.value_counts().values)"
   ]
  },
  {
   "cell_type": "code",
   "execution_count": 29,
   "metadata": {},
   "outputs": [
    {
     "data": {
      "text/plain": [
       "<BarContainer object of 8 artists>"
      ]
     },
     "execution_count": 29,
     "metadata": {},
     "output_type": "execute_result"
    },
    {
     "data": {
      "image/png": "[encoded data removed]",
      "text/plain": [
       "<Figure size 432x288 with 1 Axes>"
      ]
     },
     "metadata": {
      "needs_background": "light"
     },
     "output_type": "display_data"
    }
   ],
   "source": [
    "plt.bar(yTest.value_counts().index, yTest.value_counts().values, color='orange')"
   ]
  },
  {
   "cell_type": "code",
   "execution_count": 30,
   "metadata": {
    "scrolled": true
   },
   "outputs": [],
   "source": [
    "yTrain = pd.get_dummies(yTrain)"
   ]
  },
  {
   "cell_type": "code",
   "execution_count": 31,
   "metadata": {
    "scrolled": true
   },
   "outputs": [],
   "source": [
    "yTest = pd.get_dummies(yTest)"
   ]
  },
  {
   "cell_type": "code",
   "execution_count": 108,
   "metadata": {},
   "outputs": [],
   "source": [
    "y_train = []\n",
    "\n",
    "for i in yTrain:\n",
    "    y_train.append(i.argmax())"
   ]
  },
  {
   "cell_type": "code",
   "execution_count": 110,
   "metadata": {
    "scrolled": false
   },
   "outputs": [],
   "source": [
    "y_test = []\n",
    "\n",
    "for i in yTest:\n",
    "    y_test.append(i.argmax())"
   ]
  },
  {
   "cell_type": "code",
   "execution_count": 113,
   "metadata": {},
   "outputs": [],
   "source": [
    "from keras.utils.np_utils import to_categorical\n",
    "\n",
    "categorical_labels = to_categorical(y_train, num_classes=None)"
   ]
  },
  {
   "cell_type": "code",
   "execution_count": 114,
   "metadata": {},
   "outputs": [
    {
     "data": {
      "text/plain": [
       "array([[0., 0., 0., ..., 0., 0., 0.],\n",
       "       [0., 0., 1., ..., 0., 0., 0.],\n",
       "       [0., 0., 0., ..., 1., 0., 0.],\n",
       "       ...,\n",
       "       [0., 0., 0., ..., 0., 1., 0.],\n",
       "       [0., 0., 0., ..., 0., 1., 0.],\n",
       "       [0., 0., 0., ..., 0., 0., 0.]], dtype=float32)"
      ]
     },
     "execution_count": 114,
     "metadata": {},
     "output_type": "execute_result"
    }
   ],
   "source": [
    "categorical_labels"
   ]
  },
  {
   "cell_type": "code",
   "execution_count": 32,
   "metadata": {},
   "outputs": [
    {
     "name": "stdout",
     "output_type": "stream",
     "text": [
      "WARNING:tensorflow:From c:\\users\\asus\\appdata\\local\\programs\\python\\python37\\lib\\site-packages\\tensorflow\\python\\ops\\math_grad.py:1250: add_dispatch_support.<locals>.wrapper (from tensorflow.python.ops.array_ops) is deprecated and will be removed in a future version.\n",
      "Instructions for updating:\n",
      "Use tf.where in 2.0, which has the same broadcast rule as np.where\n",
      "Train on 7317 samples, validate on 1830 samples\n",
      "Epoch 1/10\n",
      "7317/7317 [==============================] - 12s 2ms/step - loss: 1.5238 - acc: 0.4196 - val_loss: 0.7917 - val_acc: 0.6787\n",
      "Epoch 2/10\n",
      "7317/7317 [==============================] - 9s 1ms/step - loss: 0.6443 - acc: 0.7540 - val_loss: 0.2410 - val_acc: 0.9410\n",
      "Epoch 3/10\n",
      "7317/7317 [==============================] - 9s 1ms/step - loss: 0.3556 - acc: 0.8625 - val_loss: 0.1388 - val_acc: 0.9634\n",
      "Epoch 4/10\n",
      "7317/7317 [==============================] - 9s 1ms/step - loss: 0.2684 - acc: 0.8945 - val_loss: 0.1104 - val_acc: 0.9672\n",
      "Epoch 5/10\n",
      "7317/7317 [==============================] - 9s 1ms/step - loss: 0.2345 - acc: 0.9016 - val_loss: 0.0939 - val_acc: 0.9699\n",
      "Epoch 6/10\n",
      "7317/7317 [==============================] - 9s 1ms/step - loss: 0.1987 - acc: 0.9168 - val_loss: 0.0787 - val_acc: 0.9765\n",
      "Epoch 7/10\n",
      "7317/7317 [==============================] - 9s 1ms/step - loss: 0.1780 - acc: 0.9224 - val_loss: 0.0731 - val_acc: 0.9798\n",
      "Epoch 8/10\n",
      "7317/7317 [==============================] - 9s 1ms/step - loss: 0.1336 - acc: 0.9467 - val_loss: 0.0652 - val_acc: 0.9820\n",
      "Epoch 9/10\n",
      "7317/7317 [==============================] - 10s 1ms/step - loss: 0.1020 - acc: 0.9559 - val_loss: 0.0568 - val_acc: 0.9842\n",
      "Epoch 10/10\n",
      "7317/7317 [==============================] - 10s 1ms/step - loss: 0.0973 - acc: 0.9564 - val_loss: 0.0547 - val_acc: 0.9836\n"
     ]
    }
   ],
   "source": [
    "history = model.fit(xTrain, yTrain, batch_size=64, epochs=10, validation_data=(xTest, yTest))"
   ]
  },
  {
   "cell_type": "code",
   "execution_count": 33,
   "metadata": {},
   "outputs": [
    {
     "data": {
      "image/png": "[encoded data removed]",
      "text/plain": [
       "<Figure size 432x288 with 1 Axes>"
      ]
     },
     "metadata": {
      "needs_background": "light"
     },
     "output_type": "display_data"
    }
   ],
   "source": [
    "# Plot training & validation accuracy values\n",
    "plt.plot(history.history['acc'])\n",
    "plt.plot(history.history['val_acc'])\n",
    "plt.title('Model accuracy')\n",
    "plt.ylabel('Accuracy')\n",
    "plt.xlabel('Epoch')\n",
    "plt.legend(['Train', 'Test'], loc='upper left')\n",
    "plt.show()"
   ]
  },
  {
   "cell_type": "code",
   "execution_count": 34,
   "metadata": {},
   "outputs": [
    {
     "data": {
      "image/png": "[encoded data removed]",
      "text/plain": [
       "<Figure size 432x288 with 1 Axes>"
      ]
     },
     "metadata": {
      "needs_background": "light"
     },
     "output_type": "display_data"
    }
   ],
   "source": [
    "# Plot training & validation loss values\n",
    "plt.plot(history.history['loss'])\n",
    "plt.plot(history.history['val_loss'])\n",
    "plt.title('Model loss')\n",
    "plt.ylabel('Loss')\n",
    "plt.xlabel('Epoch')\n",
    "plt.legend(['Train', 'Test'], loc='upper left')\n",
    "plt.show()"
   ]
  },
  {
   "cell_type": "code",
   "execution_count": null,
   "metadata": {},
   "outputs": [],
   "source": [
    "def prepare_text(text):\n",
    "    \n",
    "    text = re.sub(' +',' ',\" \".join(re.split(r'[^\\w]', re.sub(re.compile(\"/\\*.*?\\*/\",re.DOTALL ) ,\"\" ,i[0][j:j+chunk].decode('utf-8')))))   \n",
    "    d.append({'text': text, 'pl': i[1].decode()})"
   ]
  },
  {
   "cell_type": "code",
   "execution_count": null,
   "metadata": {},
   "outputs": [],
   "source": [
    "def clean_text(text):\n",
    "    \n",
    "    doc_tokens = text.split(' ')\n",
    "    doc_tokens = [w for w in doc_tokens if w in tokens]\n",
    "    doc_tokens = ' '.join(doc_tokens)\n",
    "    \n",
    "    return doc_tokens\n",
    "    \n",
    "new_text = []\n",
    "for text in df['text']:\n",
    "    new_text.append(clean_text(text))"
   ]
  },
  {
   "cell_type": "code",
   "execution_count": 179,
   "metadata": {},
   "outputs": [],
   "source": [
    "def test_on_directory(path):\n",
    "    \n",
    "    texts = []\n",
    "    file_names = os.listdir(path)\n",
    "    \n",
    "    for file_name in file_names:\n",
    "        with open('./test/' + file_name, 'r', encoding='utf-8') as file:\n",
    "            text = file.read()[:1024]\n",
    "            \n",
    "        text = re.sub(' +',' ',\" \".join(re.split(r'[^\\w]', re.sub(re.compile(\"/\\*.*?\\*/\",re.DOTALL ) ,\"\" , text))))  \n",
    "        text = clean_text(text)\n",
    "        texts.append(text)\n",
    "        \n",
    "    encoded_docs = tokenizer.texts_to_sequences(texts)\n",
    "    X = pad_sequences(encoded_docs, maxlen=max_length, padding='post')\n",
    "    \n",
    "    return file_names, X, texts"
   ]
  },
  {
   "cell_type": "markdown",
   "metadata": {},
   "source": [
    "# Testing Model"
   ]
  },
  {
   "cell_type": "code",
   "execution_count": 220,
   "metadata": {},
   "outputs": [
    {
     "name": "stdout",
     "output_type": "stream",
     "text": [
      "array_literal_local_array.swift: swift\n",
      "authentication.py: py\n",
      "bridging.swift: swift\n",
      "category_handler.py: py\n",
      "compressed.js: js\n",
      "ErrorBridging.swift: swift\n",
      "error_handler.py: py\n",
      "index.js: js\n",
      "main.js: js\n",
      "makeTapReport.m: js\n",
      "Messentrypage.js: js\n",
      "modernizr-2.6.2.min.js: js\n",
      "Notifications.js: js\n",
      "runMatlab2TikzTests.m: sh\n",
      "switcher.js: js\n",
      "tests.sh: sh\n",
      "user_manager.py: py\n",
      "Time Taken:   0.10471987724304199\n"
     ]
    }
   ],
   "source": [
    "from time import time\n",
    "\n",
    "start = time()\n",
    "\n",
    "filenames, test_df, texts = test_on_directory('./test')\n",
    "preds = model.predict(test_df)\n",
    "predicted_class_indices = np.argmax(preds, axis=1)\n",
    "for filename, i in zip(filenames, predicted_class_indices):\n",
    "    print(filename, yTrain.columns[i], sep=': ')\n",
    "    \n",
    "print('Time Taken:  ', time() - start)"
   ]
  },
  {
   "cell_type": "markdown",
   "metadata": {},
   "source": [
    "## Time Taken:   0.10471987724304199\n",
    "## less incorrect prediction. Would definitely improve with more data and features"
   ]
  },
  {
   "cell_type": "markdown",
   "metadata": {},
   "source": [
    "# Testing Pygments"
   ]
  },
  {
   "cell_type": "code",
   "execution_count": 222,
   "metadata": {},
   "outputs": [
    {
     "name": "stdout",
     "output_type": "stream",
     "text": [
      "array_literal_local_array.swift : Text only\n",
      "authentication.py : Python\n",
      "bridging.swift : Python\n",
      "category_handler.py : Python\n",
      "compressed.js : Prolog\n",
      "ErrorBridging.swift : Python\n",
      "error_handler.py : Python\n",
      "index.js : TypeScript\n",
      "main.js : TypeScript\n",
      "makeTapReport.m : TypeScript\n",
      "Messentrypage.js : Python\n",
      "modernizr-2.6.2.min.js : Objective-C\n",
      "Notifications.js : Python\n",
      "runMatlab2TikzTests.m : TypeScript\n",
      "switcher.js : XML\n",
      "tests.sh : Bash\n",
      "user_manager.py : Python\n",
      "Time Taken:   0.29717063903808594\n"
     ]
    }
   ],
   "source": [
    "from pygments.lexers import guess_lexer\n",
    "import os\n",
    "\n",
    "start = time()\n",
    "\n",
    "file_names = os.listdir('./test')\n",
    "\n",
    "for file_name in file_names:\n",
    "    with open('./test/' + file_name, encoding='utf-8') as file:\n",
    "        lexer_subclass = guess_lexer(file.read())\n",
    "        print(file_name, lexer_subclass.name, sep=' : ')\n",
    "        \n",
    "print('Time Taken:  ', time() - start)"
   ]
  },
  {
   "cell_type": "markdown",
   "metadata": {},
   "source": [
    "## Time Taken:   0.29717063903808594"
   ]
  },
  {
   "cell_type": "code",
   "execution_count": null,
   "metadata": {},
   "outputs": [],
   "source": []
  }
 ],
 "metadata": {
  "kernelspec": {
   "display_name": "Python 3",
   "language": "python",
   "name": "python3"
  },
  "language_info": {
   "codemirror_mode": {
    "name": "ipython",
    "version": 3
   },
   "file_extension": ".py",
   "mimetype": "text/x-python",
   "name": "python",
   "nbconvert_exporter": "python",
   "pygments_lexer": "ipython3",
   "version": "3.7.2"
  }
 },
 "nbformat": 4,
 "nbformat_minor": 2
}
