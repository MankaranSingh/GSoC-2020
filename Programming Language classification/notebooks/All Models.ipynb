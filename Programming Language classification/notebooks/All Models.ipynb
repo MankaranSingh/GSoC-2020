{
 "cells": [
  {
   "cell_type": "markdown",
   "metadata": {},
   "source": [
    "# Programming Language Classifier"
   ]
  },
  {
   "cell_type": "code",
   "execution_count": 4,
   "metadata": {},
   "outputs": [],
   "source": [
    "import os\n",
    "import re\n",
    "import csv\n",
    "import operator\n",
    "import numpy as np\n",
    "import pandas as pd\n",
    "from os import listdir\n",
    "from collections import *\n",
    "from os.path import isfile, join\n",
    "\n",
    "%matplotlib inline\n",
    "import matplotlib.pyplot as plt\n",
    "%matplotlib inline"
   ]
  },
  {
   "cell_type": "code",
   "execution_count": 5,
   "metadata": {},
   "outputs": [],
   "source": [
    "train_data = np.array(np.load(\"../data/githubtrainingdatacompressed.npz\")['arr_0'])\n",
    "test_data = np.array(np.load(\"../data/githubtestdatacompressed.npz\")['arr_0'])"
   ]
  },
  {
   "cell_type": "code",
   "execution_count": 6,
   "metadata": {},
   "outputs": [],
   "source": [
    "with open('test.py', 'wb') as file:\n",
    "    file.write(train_data[0][0])"
   ]
  },
  {
   "cell_type": "code",
   "execution_count": 7,
   "metadata": {},
   "outputs": [
    {
     "data": {
      "text/plain": [
       "(array([145.,  60., 327.,   0., 128., 322.,   0., 379., 402.,  77.]),\n",
       " array([0. , 0.7, 1.4, 2.1, 2.8, 3.5, 4.2, 4.9, 5.6, 6.3, 7. ]),\n",
       " <a list of 10 Patch objects>)"
      ]
     },
     "execution_count": 7,
     "metadata": {},
     "output_type": "execute_result"
    },
    {
     "data": {
      "image/png": "[encoded data removed]",
      "text/plain": [
       "<Figure size 432x288 with 1 Axes>"
      ]
     },
     "metadata": {
      "needs_background": "light"
     },
     "output_type": "display_data"
    }
   ],
   "source": [
    "plt.hist(train_data[:, 1])"
   ]
  },
  {
   "cell_type": "code",
   "execution_count": 8,
   "metadata": {},
   "outputs": [],
   "source": [
    "pls = {}\n",
    "for row in range(len(train_data)):\n",
    "    if train_data[row][1].decode() not in pls:\n",
    "        pls[train_data[row][1].decode()] = []\n",
    "    pls[train_data[row][1].decode()].append(train_data[row][0].decode())"
   ]
  },
  {
   "cell_type": "code",
   "execution_count": 14,
   "metadata": {},
   "outputs": [],
   "source": [
    "d = []\n",
    "chunk = 2048\n",
    "\n",
    "for i in train_data:\n",
    "        for j in range(0,len(i[0]),chunk):\n",
    "            text = re.sub(' +',' ',\" \".join(re.split(r'[^\\w]', re.sub(re.compile(\"/\\*.*?\\*/\",re.DOTALL ) ,\"\" ,i[0][j:j+chunk].decode('utf-8')))))\n",
    "            text = text.lower()\n",
    "            \n",
    "            d.append({'text': text, 'pl': i[1].decode()})\n",
    "\n",
    "df = pd.DataFrame(d, columns = ['text', 'pl'])\n",
    "df['text'].replace(' ', np.nan, inplace=True)\n",
    "df = df.dropna()\n",
    "# df.to_csv('trainingdata.csv', header=['text','pl'],index=False)"
   ]
  },
  {
   "cell_type": "code",
   "execution_count": 16,
   "metadata": {},
   "outputs": [
    {
     "data": {
      "text/plain": [
       "' copyright 2016 ibm corp licensed under the apache license version 2 0 the license you may not use this file except in compliance with the license you may obtain a copy of the license at http www apache org licenses license 2 0 unless required by applicable law or agreed to in writing software distributed under the license is distributed on an as is basis without warranties or conditions of any kind either express or implied see the license for the specific language governing permissions and limitations under the license ibm xcli client events module module client description enables sending a notification event to the spectrum accelerate storage arrays import json from socket import getfqdn from bunch import bunch from logging import getlogger from pyxcli import xcli_default_logger from pyxcli events platform_info import get_platform_details from pyxcli errors import unrecognizedcommanderror from pyxcli errors import operationforbiddenforusercategoryerror log getlogger xcli_default_logger events host_product hostproduct event_severity informational css_product_event css_product_event class eventsmanager object handle css event sending to xiv def __init__ self xcli product_name product_version init an eventsmanager args xcli xcliclient xcli client to send the event product_name string the sending product s name product_version string the sending product s version raises valueerror if missing product_name or product_version self xcli xcli self product_name product_name self product_version product_version self server_name getfqdn self platform get_platform_details verify i'"
      ]
     },
     "execution_count": 16,
     "metadata": {},
     "output_type": "execute_result"
    }
   ],
   "source": [
    "df.iloc[0]['text']"
   ]
  },
  {
   "cell_type": "code",
   "execution_count": 17,
   "metadata": {},
   "outputs": [
    {
     "data": {
      "text/plain": [
       "<BarContainer object of 8 artists>"
      ]
     },
     "execution_count": 17,
     "metadata": {},
     "output_type": "execute_result"
    },
    {
     "data": {
      "image/png": "[encoded data removed]",
      "text/plain": [
       "<Figure size 432x288 with 1 Axes>"
      ]
     },
     "metadata": {
      "needs_background": "light"
     },
     "output_type": "display_data"
    }
   ],
   "source": [
    "plt.bar(df['pl'].value_counts().index, df['pl'].value_counts().values)"
   ]
  },
  {
   "cell_type": "code",
   "execution_count": 18,
   "metadata": {},
   "outputs": [],
   "source": [
    "from collections import Counter\n",
    "\n",
    "vocab = Counter()\n",
    "for document in df['text']:\n",
    "    tokens = document.split()\n",
    "    vocab.update(tokens)"
   ]
  },
  {
   "cell_type": "code",
   "execution_count": 23,
   "metadata": {},
   "outputs": [
    {
     "name": "stdout",
     "output_type": "stream",
     "text": [
      "24501\n",
      "[('this', 12519), ('if', 12088), ('return', 11515), ('self', 10029), ('a', 9757), ('the', 9369), ('0', 8904), ('function', 8502), ('var', 8297), ('string', 8228), ('e', 7528), ('import', 5757), ('error', 5556), ('t', 5527), ('to', 5467), ('n', 5394), ('final', 5168), ('1', 4785), ('s', 4775), ('for', 4535), ('b', 4384), ('i', 4303), ('let', 4214), ('err', 3987), ('public', 3786), ('in', 3628), ('c', 3621), ('is', 3602), ('else', 3486), ('null', 3347), ('r', 3205), ('data', 3152), ('get', 3150), ('com', 3144), ('name', 3139), ('nil', 3076), ('response', 3064), ('func', 2976), ('d', 2823), ('new', 2769), ('void', 2666), ('request', 2620), ('2', 2531), ('url', 2516), ('class', 2512), ('of', 2464), ('fake', 2407), ('x', 2323), ('json', 2252), ('length', 2169), ('ibm', 2113), ('id', 2098), ('type', 2080), ('h', 2037), ('logger', 2015), ('and', 1989), ('test', 1984), ('f', 1981), ('o', 1902), ('log', 1890), ('echo', 1888), ('true', 1877), ('not', 1873), ('body', 1863), ('int', 1852), ('static', 1843), ('map', 1747), ('object', 1733), ('private', 1619), ('prototype', 1609), ('from', 1558), ('with', 1544), ('og', 1537), ('license', 1517), ('status', 1512), ('options', 1486), ('_', 1476), ('message', 1474), ('g', 1467), ('as', 1461), ('callback', 1447), ('value', 1440), ('key', 1429), ('http', 1398), ('org', 1383), ('l', 1335), ('false', 1330), ('or', 1312), ('depth0', 1306), ('context', 1280), ('image', 1271), ('def', 1261), ('call', 1249), ('method', 1249), ('api', 1217), ('headers', 1191), ('u', 1186), ('be', 1173), ('set', 1150), ('helper', 1135)]\n"
     ]
    }
   ],
   "source": [
    "print(len(vocab))\n",
    "print(vocab.most_common(100))"
   ]
  },
  {
   "cell_type": "code",
   "execution_count": 54,
   "metadata": {},
   "outputs": [
    {
     "name": "stdout",
     "output_type": "stream",
     "text": [
      "11100\n"
     ]
    }
   ],
   "source": [
    "min_occurane = 5\n",
    "tokens = [k for k,c in vocab.items() if c >= min_occurane]\n",
    "forbidden = ['copyright', 'ibm', 'corp', 'licensed', 'you', 'apache', 'license', 'licenses', 'org', 'compliance']\n",
    "tokens = [word for word in tokens if len(word) > 1]\n",
    "tokens = [word for word in tokens if word not in forbidden]\n",
    "tokens = [word for word in tokens if not word.isnumeric()]\n",
    "print(len(tokens))"
   ]
  },
  {
   "cell_type": "code",
   "execution_count": 55,
   "metadata": {},
   "outputs": [],
   "source": [
    "# save list to file\n",
    "def save_list(lines, filename):\n",
    "    # convert lines to a single blob of text\n",
    "    data = '\\n'.join(lines)\n",
    "    file = open(filename, 'w')\n",
    "    file.write(data)\n",
    "    file.close()\n",
    "\n",
    "save_list(tokens, 'vocab.txt')"
   ]
  },
  {
   "cell_type": "code",
   "execution_count": 56,
   "metadata": {},
   "outputs": [
    {
     "data": {
      "text/plain": [
       "['under',\n",
       " 'the',\n",
       " 'version',\n",
       " 'may',\n",
       " 'not',\n",
       " 'use',\n",
       " 'this',\n",
       " 'file',\n",
       " 'except',\n",
       " 'in',\n",
       " 'with',\n",
       " 'obtain',\n",
       " 'copy',\n",
       " 'of',\n",
       " 'at',\n",
       " 'http',\n",
       " 'www',\n",
       " 'unless',\n",
       " 'required',\n",
       " 'by']"
      ]
     },
     "execution_count": 56,
     "metadata": {},
     "output_type": "execute_result"
    }
   ],
   "source": [
    "tokens[:20]"
   ]
  },
  {
   "cell_type": "code",
   "execution_count": 57,
   "metadata": {},
   "outputs": [],
   "source": [
    "def clean_text(text):\n",
    "    \n",
    "    doc_tokens = text.split(' ')\n",
    "    doc_tokens = [w for w in doc_tokens if w in tokens]\n",
    "    doc_tokens = ' '.join(doc_tokens)\n",
    "    \n",
    "    return doc_tokens\n",
    "    \n",
    "new_text = []\n",
    "for text in df['text']:\n",
    "    new_text.append(clean_text(text))"
   ]
  },
  {
   "cell_type": "code",
   "execution_count": 58,
   "metadata": {},
   "outputs": [],
   "source": [
    "df['text'] = np.array(new_text)"
   ]
  },
  {
   "cell_type": "code",
   "execution_count": 59,
   "metadata": {
    "scrolled": true
   },
   "outputs": [
    {
     "data": {
      "text/html": [
       "<div>\n",
       "<style scoped>\n",
       "    .dataframe tbody tr th:only-of-type {\n",
       "        vertical-align: middle;\n",
       "    }\n",
       "\n",
       "    .dataframe tbody tr th {\n",
       "        vertical-align: top;\n",
       "    }\n",
       "\n",
       "    .dataframe thead th {\n",
       "        text-align: right;\n",
       "    }\n",
       "</style>\n",
       "<table border=\"1\" class=\"dataframe\">\n",
       "  <thead>\n",
       "    <tr style=\"text-align: right;\">\n",
       "      <th></th>\n",
       "      <th>text</th>\n",
       "      <th>pl</th>\n",
       "    </tr>\n",
       "  </thead>\n",
       "  <tbody>\n",
       "    <tr>\n",
       "      <th>0</th>\n",
       "      <td>under the version the may not use this file ex...</td>\n",
       "      <td>py</td>\n",
       "    </tr>\n",
       "    <tr>\n",
       "      <th>1</th>\n",
       "      <td>params if not self product_name raise valueerr...</td>\n",
       "      <td>py</td>\n",
       "    </tr>\n",
       "    <tr>\n",
       "      <th>2</th>\n",
       "      <td>platform self platform action action propertie...</td>\n",
       "      <td>py</td>\n",
       "    </tr>\n",
       "    <tr>\n",
       "      <th>3</th>\n",
       "      <td>xml version encoding utf project xmlns http ma...</td>\n",
       "      <td>xml</td>\n",
       "    </tr>\n",
       "    <tr>\n",
       "      <th>4</th>\n",
       "      <td>bin bash if ne then echo usage id exit fi cat_...</td>\n",
       "      <td>sh</td>\n",
       "    </tr>\n",
       "    <tr>\n",
       "      <th>5</th>\n",
       "      <td>import sdwebimagemanager import objc message i...</td>\n",
       "      <td>m</td>\n",
       "    </tr>\n",
       "    <tr>\n",
       "      <th>6</th>\n",
       "      <td>key bool nsurl url nsstring key self cachekeyf...</td>\n",
       "      <td>m</td>\n",
       "    </tr>\n",
       "    <tr>\n",
       "      <th>7</th>\n",
       "      <td>prefetchurls instead very common is to send th...</td>\n",
       "      <td>m</td>\n",
       "    </tr>\n",
       "    <tr>\n",
       "      <th>8</th>\n",
       "      <td>but sdwebimagerefreshcached is provided notify...</td>\n",
       "      <td>m</td>\n",
       "    </tr>\n",
       "    <tr>\n",
       "      <th>9</th>\n",
       "      <td>do nothing if the operation was cancelled see ...</td>\n",
       "      <td>m</td>\n",
       "    </tr>\n",
       "    <tr>\n",
       "      <th>10</th>\n",
       "      <td>selector imagemanager dispatch_async uiimage t...</td>\n",
       "      <td>m</td>\n",
       "    </tr>\n",
       "    <tr>\n",
       "      <th>11</th>\n",
       "      <td>cancel synchronized self runningoperations __s...</td>\n",
       "      <td>m</td>\n",
       "    </tr>\n",
       "    <tr>\n",
       "      <th>12</th>\n",
       "      <td>end implementation sdwebimagecombinedoperation...</td>\n",
       "      <td>m</td>\n",
       "    </tr>\n",
       "    <tr>\n",
       "      <th>13</th>\n",
       "      <td>import foundation public protocol identitytoke...</td>\n",
       "      <td>swift</td>\n",
       "    </tr>\n",
       "    <tr>\n",
       "      <th>14</th>\n",
       "      <td>if defined __has_feature __has_feature objc_ar...</td>\n",
       "      <td>m</td>\n",
       "    </tr>\n",
       "    <tr>\n",
       "      <th>15</th>\n",
       "      <td>check to see if we are on ios if nsfoundationv...</td>\n",
       "      <td>m</td>\n",
       "    </tr>\n",
       "    <tr>\n",
       "      <th>16</th>\n",
       "      <td>has on ios check to see if we have split view ...</td>\n",
       "      <td>m</td>\n",
       "    </tr>\n",
       "    <tr>\n",
       "      <th>17</th>\n",
       "      <td>use strict var test require tape utilfunctions...</td>\n",
       "      <td>js</td>\n",
       "    </tr>\n",
       "    <tr>\n",
       "      <th>18</th>\n",
       "      <td>utilfunctions fixlength newresult equal json s...</td>\n",
       "      <td>js</td>\n",
       "    </tr>\n",
       "    <tr>\n",
       "      <th>19</th>\n",
       "      <td>created by jesse squires http www jessesquires...</td>\n",
       "      <td>m</td>\n",
       "    </tr>\n",
       "    <tr>\n",
       "      <th>20</th>\n",
       "      <td>insets uiedgeinsetsmake 0f 0f 0f 0f cgsize def...</td>\n",
       "      <td>m</td>\n",
       "    </tr>\n",
       "    <tr>\n",
       "      <th>21</th>\n",
       "      <td>_visibleindexpaths removeallobjects self inval...</td>\n",
       "      <td>m</td>\n",
       "    </tr>\n",
       "    <tr>\n",
       "      <th>22</th>\n",
       "      <td>set left self sectioninset right uidynamicanim...</td>\n",
       "      <td>m</td>\n",
       "    </tr>\n",
       "    <tr>\n",
       "      <th>23</th>\n",
       "      <td>nsstringfromselector selector indexpath self v...</td>\n",
       "      <td>m</td>\n",
       "    </tr>\n",
       "    <tr>\n",
       "      <th>24</th>\n",
       "      <td>super layoutattributesforitematindexpath index...</td>\n",
       "      <td>m</td>\n",
       "    </tr>\n",
       "    <tr>\n",
       "      <th>25</th>\n",
       "      <td>uicollectionelementcategorycell self jsq_confi...</td>\n",
       "      <td>m</td>\n",
       "    </tr>\n",
       "    <tr>\n",
       "      <th>26</th>\n",
       "      <td>finalheight attributes messagebubbletoplabelhe...</td>\n",
       "      <td>m</td>\n",
       "    </tr>\n",
       "    <tr>\n",
       "      <th>27</th>\n",
       "      <td>item if cgsizeequaltosize item frame size cgsi...</td>\n",
       "      <td>m</td>\n",
       "    </tr>\n",
       "    <tr>\n",
       "      <th>28</th>\n",
       "      <td>self dynamicanimator behaviors indexset enumer...</td>\n",
       "      <td>m</td>\n",
       "    </tr>\n",
       "    <tr>\n",
       "      <th>29</th>\n",
       "      <td>xml version encoding utf project xmlns http ma...</td>\n",
       "      <td>xml</td>\n",
       "    </tr>\n",
       "    <tr>\n",
       "      <th>...</th>\n",
       "      <td>...</td>\n",
       "      <td>...</td>\n",
       "    </tr>\n",
       "    <tr>\n",
       "      <th>5085</th>\n",
       "      <td>multipartwritebody final function map string s...</td>\n",
       "      <td>java</td>\n",
       "    </tr>\n",
       "    <tr>\n",
       "      <th>5086</th>\n",
       "      <td>map string string string queryparameters final...</td>\n",
       "      <td>java</td>\n",
       "    </tr>\n",
       "    <tr>\n",
       "      <th>5087</th>\n",
       "      <td>if ne then echo usage echo number of steps ech...</td>\n",
       "      <td>sh</td>\n",
       "    </tr>\n",
       "    <tr>\n",
       "      <th>5088</th>\n",
       "      <td>done below collecting logs nmon and creating p...</td>\n",
       "      <td>sh</td>\n",
       "    </tr>\n",
       "    <tr>\n",
       "      <th>5089</th>\n",
       "      <td>mark swift if swift mark loglevel public enum ...</td>\n",
       "      <td>swift</td>\n",
       "    </tr>\n",
       "    <tr>\n",
       "      <th>5090</th>\n",
       "      <td>return info case debug return debug mark logge...</td>\n",
       "      <td>swift</td>\n",
       "    </tr>\n",
       "    <tr>\n",
       "      <th>5091</th>\n",
       "      <td>or the logger exception handler will be overwr...</td>\n",
       "      <td>swift</td>\n",
       "    </tr>\n",
       "    <tr>\n",
       "      <th>5092</th>\n",
       "      <td>used to persist all logs to the device file sy...</td>\n",
       "      <td>swift</td>\n",
       "    </tr>\n",
       "    <tr>\n",
       "      <th>5093</th>\n",
       "      <td>function or line parameters these parameters t...</td>\n",
       "      <td>swift</td>\n",
       "    </tr>\n",
       "    <tr>\n",
       "      <th>5094</th>\n",
       "      <td>log message message level loglevel fatal calle...</td>\n",
       "      <td>swift</td>\n",
       "    </tr>\n",
       "    <tr>\n",
       "      <th>5095</th>\n",
       "      <td>public static func printlog message logmessage...</td>\n",
       "      <td>swift</td>\n",
       "    </tr>\n",
       "    <tr>\n",
       "      <th>5096</th>\n",
       "      <td>return info case debug return debug mark logge...</td>\n",
       "      <td>swift</td>\n",
       "    </tr>\n",
       "    <tr>\n",
       "      <th>5097</th>\n",
       "      <td>or the logger exception handler will be overwr...</td>\n",
       "      <td>swift</td>\n",
       "    </tr>\n",
       "    <tr>\n",
       "      <th>5098</th>\n",
       "      <td>used to persist all logs to the device file sy...</td>\n",
       "      <td>swift</td>\n",
       "    </tr>\n",
       "    <tr>\n",
       "      <th>5099</th>\n",
       "      <td>these parameters take default values to automa...</td>\n",
       "      <td>swift</td>\n",
       "    </tr>\n",
       "    <tr>\n",
       "      <th>5100</th>\n",
       "      <td>on function calledlinenumber line equivalent t...</td>\n",
       "      <td>swift</td>\n",
       "    </tr>\n",
       "    <tr>\n",
       "      <th>5101</th>\n",
       "      <td>ing loggername string level loglevel calledfun...</td>\n",
       "      <td>swift</td>\n",
       "    </tr>\n",
       "    <tr>\n",
       "      <th>5102</th>\n",
       "      <td>package com og json public class objectmanager...</td>\n",
       "      <td>java</td>\n",
       "    </tr>\n",
       "    <tr>\n",
       "      <th>5103</th>\n",
       "      <td>package com og http import static com google c...</td>\n",
       "      <td>java</td>\n",
       "    </tr>\n",
       "    <tr>\n",
       "      <th>5104</th>\n",
       "      <td>override public method getmethod return this r...</td>\n",
       "      <td>java</td>\n",
       "    </tr>\n",
       "    <tr>\n",
       "      <th>5105</th>\n",
       "      <td>public void final long length checkargument le...</td>\n",
       "      <td>java</td>\n",
       "    </tr>\n",
       "    <tr>\n",
       "      <th>5106</th>\n",
       "      <td>use strict var log4js require log4js nconf req...</td>\n",
       "      <td>js</td>\n",
       "    </tr>\n",
       "    <tr>\n",
       "      <th>5107</th>\n",
       "      <td>callback var logprefix logbasepath gettoolchai...</td>\n",
       "      <td>js</td>\n",
       "    </tr>\n",
       "    <tr>\n",
       "      <th>5108</th>\n",
       "      <td>return callback null servicename else found in...</td>\n",
       "      <td>js</td>\n",
       "    </tr>\n",
       "    <tr>\n",
       "      <th>5109</th>\n",
       "      <td>under the see footer for details module export...</td>\n",
       "      <td>js</td>\n",
       "    </tr>\n",
       "    <tr>\n",
       "      <th>5110</th>\n",
       "      <td>import uikit class profileviewcontroller uivie...</td>\n",
       "      <td>swift</td>\n",
       "    </tr>\n",
       "    <tr>\n",
       "      <th>5111</th>\n",
       "      <td>override func viewwillappear animated bool uia...</td>\n",
       "      <td>swift</td>\n",
       "    </tr>\n",
       "    <tr>\n",
       "      <th>5112</th>\n",
       "      <td>view frame width height kheaderimageviewheight...</td>\n",
       "      <td>swift</td>\n",
       "    </tr>\n",
       "    <tr>\n",
       "      <th>5113</th>\n",
       "      <td>return viewmodel numberofitemsinsection sectio...</td>\n",
       "      <td>swift</td>\n",
       "    </tr>\n",
       "    <tr>\n",
       "      <th>5114</th>\n",
       "      <td>tableview tableview func tableview tableview u...</td>\n",
       "      <td>swift</td>\n",
       "    </tr>\n",
       "  </tbody>\n",
       "</table>\n",
       "<p>5111 rows × 2 columns</p>\n",
       "</div>"
      ],
      "text/plain": [
       "                                                   text     pl\n",
       "0     under the version the may not use this file ex...     py\n",
       "1     params if not self product_name raise valueerr...     py\n",
       "2     platform self platform action action propertie...     py\n",
       "3     xml version encoding utf project xmlns http ma...    xml\n",
       "4     bin bash if ne then echo usage id exit fi cat_...     sh\n",
       "5     import sdwebimagemanager import objc message i...      m\n",
       "6     key bool nsurl url nsstring key self cachekeyf...      m\n",
       "7     prefetchurls instead very common is to send th...      m\n",
       "8     but sdwebimagerefreshcached is provided notify...      m\n",
       "9     do nothing if the operation was cancelled see ...      m\n",
       "10    selector imagemanager dispatch_async uiimage t...      m\n",
       "11    cancel synchronized self runningoperations __s...      m\n",
       "12    end implementation sdwebimagecombinedoperation...      m\n",
       "13    import foundation public protocol identitytoke...  swift\n",
       "14    if defined __has_feature __has_feature objc_ar...      m\n",
       "15    check to see if we are on ios if nsfoundationv...      m\n",
       "16    has on ios check to see if we have split view ...      m\n",
       "17    use strict var test require tape utilfunctions...     js\n",
       "18    utilfunctions fixlength newresult equal json s...     js\n",
       "19    created by jesse squires http www jessesquires...      m\n",
       "20    insets uiedgeinsetsmake 0f 0f 0f 0f cgsize def...      m\n",
       "21    _visibleindexpaths removeallobjects self inval...      m\n",
       "22    set left self sectioninset right uidynamicanim...      m\n",
       "23    nsstringfromselector selector indexpath self v...      m\n",
       "24    super layoutattributesforitematindexpath index...      m\n",
       "25    uicollectionelementcategorycell self jsq_confi...      m\n",
       "26    finalheight attributes messagebubbletoplabelhe...      m\n",
       "27    item if cgsizeequaltosize item frame size cgsi...      m\n",
       "28    self dynamicanimator behaviors indexset enumer...      m\n",
       "29    xml version encoding utf project xmlns http ma...    xml\n",
       "...                                                 ...    ...\n",
       "5085  multipartwritebody final function map string s...   java\n",
       "5086  map string string string queryparameters final...   java\n",
       "5087  if ne then echo usage echo number of steps ech...     sh\n",
       "5088  done below collecting logs nmon and creating p...     sh\n",
       "5089  mark swift if swift mark loglevel public enum ...  swift\n",
       "5090  return info case debug return debug mark logge...  swift\n",
       "5091  or the logger exception handler will be overwr...  swift\n",
       "5092  used to persist all logs to the device file sy...  swift\n",
       "5093  function or line parameters these parameters t...  swift\n",
       "5094  log message message level loglevel fatal calle...  swift\n",
       "5095  public static func printlog message logmessage...  swift\n",
       "5096  return info case debug return debug mark logge...  swift\n",
       "5097  or the logger exception handler will be overwr...  swift\n",
       "5098  used to persist all logs to the device file sy...  swift\n",
       "5099  these parameters take default values to automa...  swift\n",
       "5100  on function calledlinenumber line equivalent t...  swift\n",
       "5101  ing loggername string level loglevel calledfun...  swift\n",
       "5102  package com og json public class objectmanager...   java\n",
       "5103  package com og http import static com google c...   java\n",
       "5104  override public method getmethod return this r...   java\n",
       "5105  public void final long length checkargument le...   java\n",
       "5106  use strict var log4js require log4js nconf req...     js\n",
       "5107  callback var logprefix logbasepath gettoolchai...     js\n",
       "5108  return callback null servicename else found in...     js\n",
       "5109  under the see footer for details module export...     js\n",
       "5110  import uikit class profileviewcontroller uivie...  swift\n",
       "5111  override func viewwillappear animated bool uia...  swift\n",
       "5112  view frame width height kheaderimageviewheight...  swift\n",
       "5113  return viewmodel numberofitemsinsection sectio...  swift\n",
       "5114  tableview tableview func tableview tableview u...  swift\n",
       "\n",
       "[5111 rows x 2 columns]"
      ]
     },
     "execution_count": 59,
     "metadata": {},
     "output_type": "execute_result"
    }
   ],
   "source": [
    "df"
   ]
  },
  {
   "cell_type": "code",
   "execution_count": 60,
   "metadata": {
    "collapsed": true
   },
   "outputs": [
    {
     "name": "stderr",
     "output_type": "stream",
     "text": [
      "Using TensorFlow backend.\n",
      "c:\\users\\asus\\appdata\\local\\programs\\python\\python37\\lib\\site-packages\\tensorflow\\python\\framework\\dtypes.py:516: FutureWarning: Passing (type, 1) or '1type' as a synonym of type is deprecated; in a future version of numpy, it will be understood as (type, (1,)) / '(1,)type'.\n",
      "  _np_qint8 = np.dtype([(\"qint8\", np.int8, 1)])\n",
      "c:\\users\\asus\\appdata\\local\\programs\\python\\python37\\lib\\site-packages\\tensorflow\\python\\framework\\dtypes.py:517: FutureWarning: Passing (type, 1) or '1type' as a synonym of type is deprecated; in a future version of numpy, it will be understood as (type, (1,)) / '(1,)type'.\n",
      "  _np_quint8 = np.dtype([(\"quint8\", np.uint8, 1)])\n",
      "c:\\users\\asus\\appdata\\local\\programs\\python\\python37\\lib\\site-packages\\tensorflow\\python\\framework\\dtypes.py:518: FutureWarning: Passing (type, 1) or '1type' as a synonym of type is deprecated; in a future version of numpy, it will be understood as (type, (1,)) / '(1,)type'.\n",
      "  _np_qint16 = np.dtype([(\"qint16\", np.int16, 1)])\n",
      "c:\\users\\asus\\appdata\\local\\programs\\python\\python37\\lib\\site-packages\\tensorflow\\python\\framework\\dtypes.py:519: FutureWarning: Passing (type, 1) or '1type' as a synonym of type is deprecated; in a future version of numpy, it will be understood as (type, (1,)) / '(1,)type'.\n",
      "  _np_quint16 = np.dtype([(\"quint16\", np.uint16, 1)])\n",
      "c:\\users\\asus\\appdata\\local\\programs\\python\\python37\\lib\\site-packages\\tensorflow\\python\\framework\\dtypes.py:520: FutureWarning: Passing (type, 1) or '1type' as a synonym of type is deprecated; in a future version of numpy, it will be understood as (type, (1,)) / '(1,)type'.\n",
      "  _np_qint32 = np.dtype([(\"qint32\", np.int32, 1)])\n",
      "c:\\users\\asus\\appdata\\local\\programs\\python\\python37\\lib\\site-packages\\tensorflow\\python\\framework\\dtypes.py:525: FutureWarning: Passing (type, 1) or '1type' as a synonym of type is deprecated; in a future version of numpy, it will be understood as (type, (1,)) / '(1,)type'.\n",
      "  np_resource = np.dtype([(\"resource\", np.ubyte, 1)])\n",
      "c:\\users\\asus\\appdata\\local\\programs\\python\\python37\\lib\\site-packages\\tensorboard\\compat\\tensorflow_stub\\dtypes.py:541: FutureWarning: Passing (type, 1) or '1type' as a synonym of type is deprecated; in a future version of numpy, it will be understood as (type, (1,)) / '(1,)type'.\n",
      "  _np_qint8 = np.dtype([(\"qint8\", np.int8, 1)])\n",
      "c:\\users\\asus\\appdata\\local\\programs\\python\\python37\\lib\\site-packages\\tensorboard\\compat\\tensorflow_stub\\dtypes.py:542: FutureWarning: Passing (type, 1) or '1type' as a synonym of type is deprecated; in a future version of numpy, it will be understood as (type, (1,)) / '(1,)type'.\n",
      "  _np_quint8 = np.dtype([(\"quint8\", np.uint8, 1)])\n",
      "c:\\users\\asus\\appdata\\local\\programs\\python\\python37\\lib\\site-packages\\tensorboard\\compat\\tensorflow_stub\\dtypes.py:543: FutureWarning: Passing (type, 1) or '1type' as a synonym of type is deprecated; in a future version of numpy, it will be understood as (type, (1,)) / '(1,)type'.\n",
      "  _np_qint16 = np.dtype([(\"qint16\", np.int16, 1)])\n",
      "c:\\users\\asus\\appdata\\local\\programs\\python\\python37\\lib\\site-packages\\tensorboard\\compat\\tensorflow_stub\\dtypes.py:544: FutureWarning: Passing (type, 1) or '1type' as a synonym of type is deprecated; in a future version of numpy, it will be understood as (type, (1,)) / '(1,)type'.\n",
      "  _np_quint16 = np.dtype([(\"quint16\", np.uint16, 1)])\n",
      "c:\\users\\asus\\appdata\\local\\programs\\python\\python37\\lib\\site-packages\\tensorboard\\compat\\tensorflow_stub\\dtypes.py:545: FutureWarning: Passing (type, 1) or '1type' as a synonym of type is deprecated; in a future version of numpy, it will be understood as (type, (1,)) / '(1,)type'.\n",
      "  _np_qint32 = np.dtype([(\"qint32\", np.int32, 1)])\n",
      "c:\\users\\asus\\appdata\\local\\programs\\python\\python37\\lib\\site-packages\\tensorboard\\compat\\tensorflow_stub\\dtypes.py:550: FutureWarning: Passing (type, 1) or '1type' as a synonym of type is deprecated; in a future version of numpy, it will be understood as (type, (1,)) / '(1,)type'.\n",
      "  np_resource = np.dtype([(\"resource\", np.ubyte, 1)])\n"
     ]
    }
   ],
   "source": [
    "from keras.preprocessing.text import Tokenizer\n",
    "\n",
    "tokenizer = Tokenizer()\n",
    "tokenizer.fit_on_texts(df['text'])"
   ]
  },
  {
   "cell_type": "code",
   "execution_count": 61,
   "metadata": {},
   "outputs": [],
   "source": [
    "encoded_docs = tokenizer.texts_to_sequences(df['text'])"
   ]
  },
  {
   "cell_type": "code",
   "execution_count": 62,
   "metadata": {},
   "outputs": [],
   "source": [
    "from keras.preprocessing.sequence import pad_sequences\n",
    "\n",
    "max_length = max([len(s.split()) for s in df['text']])\n",
    "X = pad_sequences(encoded_docs, maxlen=max_length, padding='post')"
   ]
  },
  {
   "cell_type": "code",
   "execution_count": 63,
   "metadata": {},
   "outputs": [
    {
     "data": {
      "text/plain": [
       "283"
      ]
     },
     "execution_count": 63,
     "metadata": {},
     "output_type": "execute_result"
    }
   ],
   "source": [
    "max_length"
   ]
  },
  {
   "cell_type": "code",
   "execution_count": 64,
   "metadata": {
    "scrolled": true
   },
   "outputs": [
    {
     "data": {
      "text/plain": [
       "array([ 161,   26,   43,  110,   35,   38,    9,   50,  564, 1249,  185,\n",
       "          9,   50,  564,  783,   20,    9,   50,  651,  651,  169,    9,\n",
       "         50,  651,  651,  380,    9,   50,  651,  651,  155,    9,   89,\n",
       "        343,  460,    9,   89,  110,  680,  398,    9,  321,  391,    9,\n",
       "        321,   31,    9,   26,  124,  308,  265, 1972,    9,   26,  124,\n",
       "        308,  265, 1973,   19,   36,   57, 6539, 1310,  391,   19,   33,\n",
       "        391,    1, 1310,   30, 6539,   31,   19,   33,  203,  219,  460,\n",
       "         12, 1973, 2110,  169, 1973,   36,    1, 1310,  203, 2110,  398,\n",
       "        735,  380, 2110,   52,  735,   31,   19,   33,  270,  219,  460,\n",
       "         12, 1972, 2148,  169, 1972,   36,  155, 2148, 4912,  752,  185,\n",
       "          1, 1310,  270, 2148,   20,  398,  735,    0,    0,    0,    0,\n",
       "          0,    0,    0,    0,    0,    0,    0,    0,    0,    0,    0,\n",
       "          0,    0,    0,    0,    0,    0,    0,    0,    0,    0,    0,\n",
       "          0,    0,    0,    0,    0,    0,    0,    0,    0,    0,    0,\n",
       "          0,    0,    0,    0,    0,    0,    0,    0,    0,    0,    0,\n",
       "          0,    0,    0,    0,    0,    0,    0,    0,    0,    0,    0,\n",
       "          0,    0,    0,    0,    0,    0,    0,    0,    0,    0,    0,\n",
       "          0,    0,    0,    0,    0,    0,    0,    0,    0,    0,    0,\n",
       "          0,    0,    0,    0,    0,    0,    0,    0,    0,    0,    0,\n",
       "          0,    0,    0,    0,    0,    0,    0,    0,    0,    0,    0,\n",
       "          0,    0,    0,    0,    0,    0,    0,    0,    0,    0,    0,\n",
       "          0,    0,    0,    0,    0,    0,    0,    0,    0,    0,    0,\n",
       "          0,    0,    0,    0,    0,    0,    0,    0,    0,    0,    0,\n",
       "          0,    0,    0,    0,    0,    0,    0,    0,    0,    0,    0,\n",
       "          0,    0,    0,    0,    0,    0,    0,    0,    0,    0,    0,\n",
       "          0,    0,    0,    0,    0,    0,    0,    0])"
      ]
     },
     "execution_count": 64,
     "metadata": {},
     "output_type": "execute_result"
    }
   ],
   "source": [
    "X[69]"
   ]
  },
  {
   "cell_type": "code",
   "execution_count": 65,
   "metadata": {},
   "outputs": [],
   "source": [
    "vocab_size = len(tokenizer.word_index) + 1"
   ]
  },
  {
   "cell_type": "code",
   "execution_count": 66,
   "metadata": {},
   "outputs": [
    {
     "name": "stdout",
     "output_type": "stream",
     "text": [
      "WARNING:tensorflow:From c:\\users\\asus\\appdata\\local\\programs\\python\\python37\\lib\\site-packages\\keras\\backend\\tensorflow_backend.py:74: The name tf.get_default_graph is deprecated. Please use tf.compat.v1.get_default_graph instead.\n",
      "\n",
      "WARNING:tensorflow:From c:\\users\\asus\\appdata\\local\\programs\\python\\python37\\lib\\site-packages\\keras\\backend\\tensorflow_backend.py:517: The name tf.placeholder is deprecated. Please use tf.compat.v1.placeholder instead.\n",
      "\n",
      "WARNING:tensorflow:From c:\\users\\asus\\appdata\\local\\programs\\python\\python37\\lib\\site-packages\\keras\\backend\\tensorflow_backend.py:4138: The name tf.random_uniform is deprecated. Please use tf.random.uniform instead.\n",
      "\n",
      "WARNING:tensorflow:From c:\\users\\asus\\appdata\\local\\programs\\python\\python37\\lib\\site-packages\\keras\\backend\\tensorflow_backend.py:3976: The name tf.nn.max_pool is deprecated. Please use tf.nn.max_pool2d instead.\n",
      "\n",
      "WARNING:tensorflow:From c:\\users\\asus\\appdata\\local\\programs\\python\\python37\\lib\\site-packages\\keras\\backend\\tensorflow_backend.py:133: The name tf.placeholder_with_default is deprecated. Please use tf.compat.v1.placeholder_with_default instead.\n",
      "\n",
      "WARNING:tensorflow:From c:\\users\\asus\\appdata\\local\\programs\\python\\python37\\lib\\site-packages\\keras\\backend\\tensorflow_backend.py:3445: calling dropout (from tensorflow.python.ops.nn_ops) with keep_prob is deprecated and will be removed in a future version.\n",
      "Instructions for updating:\n",
      "Please use `rate` instead of `keep_prob`. Rate should be set to `rate = 1 - keep_prob`.\n",
      "_________________________________________________________________\n",
      "Layer (type)                 Output Shape              Param #   \n",
      "=================================================================\n",
      "embedding_1 (Embedding)      (None, 283, 100)          987500    \n",
      "_________________________________________________________________\n",
      "conv1d_1 (Conv1D)            (None, 276, 16)           12816     \n",
      "_________________________________________________________________\n",
      "max_pooling1d_1 (MaxPooling1 (None, 138, 16)           0         \n",
      "_________________________________________________________________\n",
      "flatten_1 (Flatten)          (None, 2208)              0         \n",
      "_________________________________________________________________\n",
      "dense_1 (Dense)              (None, 32)                70688     \n",
      "_________________________________________________________________\n",
      "dropout_1 (Dropout)          (None, 32)                0         \n",
      "_________________________________________________________________\n",
      "re_lu_1 (ReLU)               (None, 32)                0         \n",
      "_________________________________________________________________\n",
      "dense_2 (Dense)              (None, 8)                 264       \n",
      "=================================================================\n",
      "Total params: 1,071,268\n",
      "Trainable params: 1,071,268\n",
      "Non-trainable params: 0\n",
      "_________________________________________________________________\n"
     ]
    }
   ],
   "source": [
    "from keras.models import Sequential\n",
    "from keras.layers import Embedding, Conv1D, MaxPooling1D, Flatten, Dense, Dropout, ReLU\n",
    "\n",
    "model = Sequential()\n",
    "\n",
    "model.add(Embedding(vocab_size, 100, input_length=max_length))\n",
    "\n",
    "model.add(Conv1D(filters=16, kernel_size=8, activation='relu'))\n",
    "model.add(MaxPooling1D(pool_size=2))\n",
    "\n",
    "model.add(Flatten())\n",
    "\n",
    "model.add(Dense(32, activation='relu'))\n",
    "model.add(Dropout(0.5))\n",
    "model.add(ReLU())\n",
    "\n",
    "model.add(Dense(8, activation='softmax'))\n",
    "\n",
    "model.summary()"
   ]
  },
  {
   "cell_type": "code",
   "execution_count": 67,
   "metadata": {},
   "outputs": [
    {
     "name": "stdout",
     "output_type": "stream",
     "text": [
      "WARNING:tensorflow:From c:\\users\\asus\\appdata\\local\\programs\\python\\python37\\lib\\site-packages\\keras\\optimizers.py:790: The name tf.train.Optimizer is deprecated. Please use tf.compat.v1.train.Optimizer instead.\n",
      "\n",
      "WARNING:tensorflow:From c:\\users\\asus\\appdata\\local\\programs\\python\\python37\\lib\\site-packages\\keras\\backend\\tensorflow_backend.py:3295: The name tf.log is deprecated. Please use tf.math.log instead.\n",
      "\n"
     ]
    }
   ],
   "source": [
    "model.compile(loss='categorical_crossentropy', optimizer='adam', metrics=['accuracy'])"
   ]
  },
  {
   "cell_type": "code",
   "execution_count": 68,
   "metadata": {},
   "outputs": [],
   "source": [
    "from sklearn.model_selection import train_test_split\n",
    "\n",
    "xTrain, xTest, yTrain, yTest = train_test_split(X, df['pl'], test_size = 0.2, random_state = 42)"
   ]
  },
  {
   "cell_type": "code",
   "execution_count": 69,
   "metadata": {},
   "outputs": [
    {
     "data": {
      "text/plain": [
       "<BarContainer object of 8 artists>"
      ]
     },
     "execution_count": 69,
     "metadata": {},
     "output_type": "execute_result"
    },
    {
     "data": {
      "image/png": "[encoded data removed]",
      "text/plain": [
       "<Figure size 432x288 with 1 Axes>"
      ]
     },
     "metadata": {
      "needs_background": "light"
     },
     "output_type": "display_data"
    }
   ],
   "source": [
    "plt.bar(yTrain.value_counts().index, yTrain.value_counts().values)"
   ]
  },
  {
   "cell_type": "code",
   "execution_count": 70,
   "metadata": {},
   "outputs": [
    {
     "data": {
      "text/plain": [
       "<BarContainer object of 8 artists>"
      ]
     },
     "execution_count": 70,
     "metadata": {},
     "output_type": "execute_result"
    },
    {
     "data": {
      "image/png": "[encoded data removed]",
      "text/plain": [
       "<Figure size 432x288 with 1 Axes>"
      ]
     },
     "metadata": {
      "needs_background": "light"
     },
     "output_type": "display_data"
    }
   ],
   "source": [
    "plt.bar(yTest.value_counts().index, yTest.value_counts().values, color='orange')"
   ]
  },
  {
   "cell_type": "code",
   "execution_count": 71,
   "metadata": {
    "scrolled": true
   },
   "outputs": [],
   "source": [
    "yTrain = pd.get_dummies(yTrain)"
   ]
  },
  {
   "cell_type": "code",
   "execution_count": 72,
   "metadata": {
    "scrolled": true
   },
   "outputs": [],
   "source": [
    "yTest = pd.get_dummies(yTest)"
   ]
  },
  {
   "cell_type": "code",
   "execution_count": 110,
   "metadata": {
    "scrolled": false
   },
   "outputs": [],
   "source": [
    "y_test = []\n",
    "\n",
    "for i in yTest:\n",
    "    y_test.append(i.argmax())"
   ]
  },
  {
   "cell_type": "code",
   "execution_count": 113,
   "metadata": {},
   "outputs": [],
   "source": [
    "from keras.utils.np_utils import to_categorical\n",
    "\n",
    "categorical_labels = to_categorical(y_train, num_classes=None)"
   ]
  },
  {
   "cell_type": "code",
   "execution_count": 114,
   "metadata": {},
   "outputs": [
    {
     "data": {
      "text/plain": [
       "array([[0., 0., 0., ..., 0., 0., 0.],\n",
       "       [0., 0., 1., ..., 0., 0., 0.],\n",
       "       [0., 0., 0., ..., 1., 0., 0.],\n",
       "       ...,\n",
       "       [0., 0., 0., ..., 0., 1., 0.],\n",
       "       [0., 0., 0., ..., 0., 1., 0.],\n",
       "       [0., 0., 0., ..., 0., 0., 0.]], dtype=float32)"
      ]
     },
     "execution_count": 114,
     "metadata": {},
     "output_type": "execute_result"
    }
   ],
   "source": [
    "categorical_labels"
   ]
  },
  {
   "cell_type": "code",
   "execution_count": 73,
   "metadata": {},
   "outputs": [
    {
     "name": "stdout",
     "output_type": "stream",
     "text": [
      "WARNING:tensorflow:From c:\\users\\asus\\appdata\\local\\programs\\python\\python37\\lib\\site-packages\\tensorflow\\python\\ops\\math_grad.py:1250: add_dispatch_support.<locals>.wrapper (from tensorflow.python.ops.array_ops) is deprecated and will be removed in a future version.\n",
      "Instructions for updating:\n",
      "Use tf.where in 2.0, which has the same broadcast rule as np.where\n",
      "Train on 4088 samples, validate on 1023 samples\n",
      "Epoch 1/10\n",
      "4088/4088 [==============================] - 8s 2ms/step - loss: 1.6917 - acc: 0.3491 - val_loss: 0.9652 - val_acc: 0.6657\n",
      "Epoch 2/10\n",
      "4088/4088 [==============================] - 5s 1ms/step - loss: 0.7558 - acc: 0.7060 - val_loss: 0.3374 - val_acc: 0.8876\n",
      "Epoch 3/10\n",
      "4088/4088 [==============================] - 5s 1ms/step - loss: 0.3615 - acc: 0.8635 - val_loss: 0.1502 - val_acc: 0.9550\n",
      "Epoch 4/10\n",
      "4088/4088 [==============================] - 5s 1ms/step - loss: 0.2318 - acc: 0.9151 - val_loss: 0.1063 - val_acc: 0.9658\n",
      "Epoch 5/10\n",
      "4088/4088 [==============================] - 5s 1ms/step - loss: 0.1758 - acc: 0.9337 - val_loss: 0.0819 - val_acc: 0.9814\n",
      "Epoch 6/10\n",
      "4088/4088 [==============================] - 5s 1ms/step - loss: 0.1387 - acc: 0.9467 - val_loss: 0.0663 - val_acc: 0.9853\n",
      "Epoch 7/10\n",
      "4088/4088 [==============================] - 5s 1ms/step - loss: 0.1182 - acc: 0.9565 - val_loss: 0.0577 - val_acc: 0.9853\n",
      "Epoch 8/10\n",
      "4088/4088 [==============================] - 5s 1ms/step - loss: 0.1023 - acc: 0.9623 - val_loss: 0.0532 - val_acc: 0.9863\n",
      "Epoch 9/10\n",
      "4088/4088 [==============================] - 5s 1ms/step - loss: 0.0932 - acc: 0.9650 - val_loss: 0.0544 - val_acc: 0.9863\n",
      "Epoch 10/10\n",
      "4088/4088 [==============================] - 5s 1ms/step - loss: 0.0793 - acc: 0.9699 - val_loss: 0.0496 - val_acc: 0.9844\n"
     ]
    }
   ],
   "source": [
    "history = model.fit(xTrain, yTrain, batch_size=64, epochs=10, validation_data=(xTest, yTest))"
   ]
  },
  {
   "cell_type": "code",
   "execution_count": 33,
   "metadata": {},
   "outputs": [
    {
     "data": {
      "image/png": "[encoded data removed]",
      "text/plain": [
       "<Figure size 432x288 with 1 Axes>"
      ]
     },
     "metadata": {
      "needs_background": "light"
     },
     "output_type": "display_data"
    }
   ],
   "source": [
    "# Plot training & validation accuracy values\n",
    "plt.plot(history.history['acc'])\n",
    "plt.plot(history.history['val_acc'])\n",
    "plt.title('Model accuracy')\n",
    "plt.ylabel('Accuracy')\n",
    "plt.xlabel('Epoch')\n",
    "plt.legend(['Train', 'Test'], loc='upper left')\n",
    "plt.show()"
   ]
  },
  {
   "cell_type": "code",
   "execution_count": 34,
   "metadata": {},
   "outputs": [
    {
     "data": {
      "image/png": "[encoded data removed]",
      "text/plain": [
       "<Figure size 432x288 with 1 Axes>"
      ]
     },
     "metadata": {
      "needs_background": "light"
     },
     "output_type": "display_data"
    }
   ],
   "source": [
    "# Plot training & validation loss values\n",
    "plt.plot(history.history['loss'])\n",
    "plt.plot(history.history['val_loss'])\n",
    "plt.title('Model loss')\n",
    "plt.ylabel('Loss')\n",
    "plt.xlabel('Epoch')\n",
    "plt.legend(['Train', 'Test'], loc='upper left')\n",
    "plt.show()"
   ]
  },
  {
   "cell_type": "code",
   "execution_count": null,
   "metadata": {},
   "outputs": [],
   "source": [
    "def prepare_text(text):\n",
    "    \n",
    "    text = re.sub(' +',' ',\" \".join(re.split(r'[^\\w]', re.sub(re.compile(\"/\\*.*?\\*/\",re.DOTALL ) ,\"\" ,i[0][j:j+chunk].decode('utf-8')))))   \n",
    "    d.append({'text': text, 'pl': i[1].decode()})"
   ]
  },
  {
   "cell_type": "code",
   "execution_count": 75,
   "metadata": {},
   "outputs": [],
   "source": [
    "def clean_text(text):\n",
    "    \n",
    "    doc_tokens = text.split(' ')\n",
    "    doc_tokens = [w for w in doc_tokens if w in tokens]\n",
    "    doc_tokens = ' '.join(doc_tokens)\n",
    "    \n",
    "    return doc_tokens"
   ]
  },
  {
   "cell_type": "code",
   "execution_count": 85,
   "metadata": {},
   "outputs": [],
   "source": [
    "def test_on_directory(path):\n",
    "    \n",
    "    texts = []\n",
    "    file_names = os.listdir(path)\n",
    "    \n",
    "    for file_name in file_names:\n",
    "        with open('./test/' + file_name, 'r', encoding='utf-8') as file:\n",
    "            text = file.read()[:1024]\n",
    "            \n",
    "        text = re.sub(' +',' ',\" \".join(re.split(r'[^\\w]', re.sub(re.compile(\"/\\*.*?\\*/\",re.DOTALL ) ,\"\" , text))))  \n",
    "        text = text.lower()\n",
    "        text = clean_text(text)\n",
    "        texts.append(text)\n",
    "        \n",
    "    encoded_docs = tokenizer.texts_to_sequences(texts)\n",
    "    X = pad_sequences(encoded_docs, maxlen=max_length, padding='post')\n",
    "    \n",
    "    return file_names, X, texts"
   ]
  },
  {
   "cell_type": "markdown",
   "metadata": {},
   "source": [
    "# Testing Model"
   ]
  },
  {
   "cell_type": "code",
   "execution_count": 148,
   "metadata": {},
   "outputs": [
    {
     "name": "stdout",
     "output_type": "stream",
     "text": [
      "array_literal_local_array.swift: swift\n",
      "authentication.py: py\n",
      "bridging.swift: swift\n",
      "category_handler.py: py\n",
      "compressed.js: js\n",
      "ErrorBridging.swift: swift\n",
      "error_handler.py: py\n",
      "index.js: js\n",
      "main.js: js\n",
      "makeTapReport.m: js\n",
      "Messentrypage.js: js\n",
      "modernizr-2.6.2.min.js: js\n",
      "Notifications.js: js\n",
      "runMatlab2TikzTests.m: py\n",
      "switcher.js: js\n",
      "test.go: go\n",
      "tests.sh: sh\n",
      "user_manager.py: py\n",
      "Time Taken:   0.21937990188598633\n"
     ]
    }
   ],
   "source": [
    "from time import time\n",
    "\n",
    "start = time()\n",
    "\n",
    "filenames, test_df, texts = test_on_directory('./test')\n",
    "preds = model.predict(test_df)\n",
    "predicted_class_indices = np.argmax(preds, axis=1)\n",
    "for filename, i in zip(filenames, predicted_class_indices):\n",
    "    print(filename, y[i], sep=': ')\n",
    "    \n",
    "print('Time Taken:  ', time() - start)"
   ]
  },
  {
   "cell_type": "markdown",
   "metadata": {},
   "source": [
    "## Time Taken:   0.21937990188598633\n",
    "## Accuracy: 0.9844\n",
    "## less incorrect prediction. Would definitely improve with more data and features"
   ]
  },
  {
   "cell_type": "markdown",
   "metadata": {},
   "source": [
    "# Testing Pygments"
   ]
  },
  {
   "cell_type": "code",
   "execution_count": 151,
   "metadata": {
    "scrolled": true
   },
   "outputs": [
    {
     "name": "stdout",
     "output_type": "stream",
     "text": [
      "array_literal_local_array.swift : Text only\n",
      "authentication.py : Python\n",
      "bridging.swift : Python\n",
      "category_handler.py : Python\n",
      "compressed.js : Prolog\n",
      "ErrorBridging.swift : Python\n",
      "error_handler.py : Python\n",
      "index.js : TypeScript\n",
      "main.js : TypeScript\n",
      "makeTapReport.m : TypeScript\n",
      "Messentrypage.js : Python\n",
      "modernizr-2.6.2.min.js : Objective-C\n",
      "Notifications.js : Python\n",
      "runMatlab2TikzTests.m : TypeScript\n",
      "switcher.js : XML\n",
      "test.go : Python\n",
      "tests.sh : Bash\n",
      "user_manager.py : Python\n",
      "Time Taken:   0.6303155422210693\n"
     ]
    }
   ],
   "source": [
    "from pygments.lexers import guess_lexer\n",
    "import os\n",
    "\n",
    "start = time()\n",
    "\n",
    "file_names = os.listdir('./test')\n",
    "\n",
    "for file_name in file_names:\n",
    "    with open('./test/' + file_name, encoding='utf-8') as file:\n",
    "        lexer_subclass = guess_lexer(file.read())\n",
    "        print(file_name, lexer_subclass.name, sep=' : ')\n",
    "        \n",
    "print('Time Taken:  ', time() - start)"
   ]
  },
  {
   "cell_type": "markdown",
   "metadata": {},
   "source": [
    "## Time Taken:   0.29717063903808594"
   ]
  },
  {
   "cell_type": "markdown",
   "metadata": {},
   "source": [
    "# XGBoost "
   ]
  },
  {
   "cell_type": "code",
   "execution_count": 91,
   "metadata": {},
   "outputs": [
    {
     "data": {
      "text/plain": [
       "TfidfVectorizer(analyzer='word', binary=False, decode_error='strict',\n",
       "        dtype=<class 'numpy.int64'>, encoding='utf-8', input='content',\n",
       "        lowercase=True, max_df=1.0, max_features=None, min_df=1,\n",
       "        ngram_range=(1, 1), norm='l2', preprocessor=None, smooth_idf=True,\n",
       "        stop_words=None, strip_accents=None, sublinear_tf=False,\n",
       "        token_pattern='(?u)\\\\b\\\\w\\\\w+\\\\b', tokenizer=None, use_idf=True,\n",
       "        vocabulary=None)"
      ]
     },
     "execution_count": 91,
     "metadata": {},
     "output_type": "execute_result"
    }
   ],
   "source": [
    "from sklearn.feature_extraction.text import TfidfVectorizer\n",
    "\n",
    "# create the transform\n",
    "vectorizer = TfidfVectorizer()\n",
    "vectorizer.fit(df['text'])"
   ]
  },
  {
   "cell_type": "code",
   "execution_count": 95,
   "metadata": {},
   "outputs": [],
   "source": [
    "transformed = vectorizer.transform(df['text'])"
   ]
  },
  {
   "cell_type": "code",
   "execution_count": 97,
   "metadata": {},
   "outputs": [
    {
     "data": {
      "text/plain": [
       "(5111, 11100)"
      ]
     },
     "execution_count": 97,
     "metadata": {},
     "output_type": "execute_result"
    }
   ],
   "source": [
    "transformed.shape"
   ]
  },
  {
   "cell_type": "code",
   "execution_count": 98,
   "metadata": {},
   "outputs": [],
   "source": [
    "def clean_text(text):\n",
    "    \n",
    "    text = re.sub(' +',' ',\" \".join(re.split(r'[^\\w]', re.sub(re.compile(\"/\\*.*?\\*/\",re.DOTALL ) ,\"\" , text))))\n",
    "    text = text.lower()\n",
    "    doc_tokens = text.split(' ')\n",
    "    doc_tokens = [w for w in doc_tokens if w in tokens]\n",
    "    doc_tokens = ' '.join(doc_tokens)\n",
    "    \n",
    "    return doc_tokens"
   ]
  },
  {
   "cell_type": "code",
   "execution_count": 100,
   "metadata": {},
   "outputs": [],
   "source": [
    "from sklearn.feature_extraction.text import TfidfVectorizer\n",
    "from sklearn.base import BaseEstimator\n",
    "\n",
    "class Text2TfIdfTransformer(BaseEstimator):\n",
    "\n",
    "    def __init__(self):\n",
    "        self._model = TfidfVectorizer()\n",
    "        pass\n",
    "\n",
    "    def fit(self, df_x, df_y=None):\n",
    "        df_x = df_x.apply(lambda x : clean_text(x))\n",
    "        self._model.fit(df_x)\n",
    "        return self\n",
    "\n",
    "    def transform(self, df_x):\n",
    "        return self._model.transform(df_x)"
   ]
  },
  {
   "cell_type": "code",
   "execution_count": 101,
   "metadata": {},
   "outputs": [],
   "source": [
    "tfidf_transformer = Text2TfIdfTransformer()\n",
    "tfidf_vectors = tfidf_transformer.fit(df['text']).transform(df['text'])"
   ]
  },
  {
   "cell_type": "code",
   "execution_count": 102,
   "metadata": {},
   "outputs": [
    {
     "data": {
      "text/plain": [
       "(5111, 11100)"
      ]
     },
     "execution_count": 102,
     "metadata": {},
     "output_type": "execute_result"
    }
   ],
   "source": [
    "tfidf_vectors.shape"
   ]
  },
  {
   "cell_type": "code",
   "execution_count": 105,
   "metadata": {},
   "outputs": [],
   "source": [
    "from sklearn.pipeline import Pipeline\n",
    "import xgboost as xgb\n",
    "\n",
    "\n",
    "pl_xgb_tf_idf = Pipeline(steps=[('tfidf',Text2TfIdfTransformer()),\n",
    "                         ('xgboost', xgb.XGBClassifier(objective='multi:softmax'))])"
   ]
  },
  {
   "cell_type": "code",
   "execution_count": 106,
   "metadata": {},
   "outputs": [],
   "source": [
    "from sklearn.model_selection import train_test_split\n",
    "\n",
    "xTrain, xTest, yTrain, yTest = train_test_split(df['text'], df['pl'], test_size = 0.2, random_state = 42)"
   ]
  },
  {
   "cell_type": "code",
   "execution_count": 108,
   "metadata": {},
   "outputs": [
    {
     "data": {
      "text/plain": [
       "Pipeline(memory=None,\n",
       "     steps=[('tfidf', Text2TfIdfTransformer()), ('xgboost', XGBClassifier(base_score=0.5, booster='gbtree', colsample_bylevel=1,\n",
       "       colsample_bynode=1, colsample_bytree=1, gamma=0, learning_rate=0.1,\n",
       "       max_delta_step=0, max_depth=3, min_child_weight=1, missing=None,\n",
       "       n_estimators=100, n_jobs=1, nthread=None,\n",
       "       objective='multi:softprob', random_state=0, reg_alpha=0,\n",
       "       reg_lambda=1, scale_pos_weight=1, seed=None, silent=None,\n",
       "       subsample=1, verbosity=1))])"
      ]
     },
     "execution_count": 108,
     "metadata": {},
     "output_type": "execute_result"
    }
   ],
   "source": [
    "pl_xgb_tf_idf.fit(xTrain, yTrain)"
   ]
  },
  {
   "cell_type": "code",
   "execution_count": 122,
   "metadata": {},
   "outputs": [
    {
     "name": "stderr",
     "output_type": "stream",
     "text": [
      "c:\\users\\asus\\appdata\\local\\programs\\python\\python37\\lib\\site-packages\\sklearn\\preprocessing\\label.py:151: DeprecationWarning: The truth value of an empty array is ambiguous. Returning False, but in future this will result in an error. Use `array.size > 0` to check that an array is not empty.\n",
      "  if diff:\n"
     ]
    }
   ],
   "source": [
    "preds = pl_xgb_tf_idf.predict(xTest)"
   ]
  },
  {
   "cell_type": "code",
   "execution_count": 123,
   "metadata": {},
   "outputs": [
    {
     "data": {
      "text/plain": [
       "0.9775171065493646"
      ]
     },
     "execution_count": 123,
     "metadata": {},
     "output_type": "execute_result"
    }
   ],
   "source": [
    "from sklearn.metrics import accuracy_score\n",
    "score = accuracy_score(yTest, preds)\n",
    "score"
   ]
  },
  {
   "cell_type": "markdown",
   "metadata": {},
   "source": [
    "## Testing XGBoost "
   ]
  },
  {
   "cell_type": "code",
   "execution_count": 159,
   "metadata": {},
   "outputs": [],
   "source": [
    "def test_on_directory_for_xg(path):\n",
    "    \n",
    "    texts = []\n",
    "    file_names = os.listdir(path)\n",
    "    \n",
    "    for file_name in file_names:\n",
    "        with open('./test/' + file_name, 'r', encoding='utf-8') as file:\n",
    "            text = file.read()[:2048]\n",
    "    \n",
    "        text = clean_text(text)\n",
    "        texts.append(text)\n",
    "    \n",
    "    return file_names, texts"
   ]
  },
  {
   "cell_type": "code",
   "execution_count": 150,
   "metadata": {},
   "outputs": [
    {
     "name": "stdout",
     "output_type": "stream",
     "text": [
      "array_literal_local_array.swift: go\n",
      "authentication.py: py\n",
      "bridging.swift: swift\n",
      "category_handler.py: py\n",
      "compressed.js: js\n",
      "ErrorBridging.swift: swift\n",
      "error_handler.py: py\n",
      "index.js: js\n",
      "main.js: js\n",
      "makeTapReport.m: js\n",
      "Messentrypage.js: js\n",
      "modernizr-2.6.2.min.js: js\n",
      "Notifications.js: js\n",
      "runMatlab2TikzTests.m: js\n",
      "switcher.js: js\n",
      "test.go: go\n",
      "tests.sh: sh\n",
      "user_manager.py: py\n",
      "Time Taken:   0.20940804481506348\n"
     ]
    },
    {
     "name": "stderr",
     "output_type": "stream",
     "text": [
      "c:\\users\\asus\\appdata\\local\\programs\\python\\python37\\lib\\site-packages\\sklearn\\preprocessing\\label.py:151: DeprecationWarning: The truth value of an empty array is ambiguous. Returning False, but in future this will result in an error. Use `array.size > 0` to check that an array is not empty.\n",
      "  if diff:\n"
     ]
    }
   ],
   "source": [
    "from time import time\n",
    "\n",
    "start = time()\n",
    "\n",
    "filenames, texts = test_on_directory_for_xg('./test')\n",
    "preds = pl_xgb_tf_idf.predict(texts)\n",
    "\n",
    "for filename, i in zip(filenames, preds):\n",
    "    print(filename, i, sep=': ')\n",
    "    \n",
    "print('Time Taken:  ', time() - start)"
   ]
  },
  {
   "cell_type": "markdown",
   "metadata": {},
   "source": [
    "## Time Taken:  0.20940804481506348\n",
    "## Accuray: 0.9775171065493646"
   ]
  },
  {
   "cell_type": "markdown",
   "metadata": {},
   "source": [
    "# Random Forest"
   ]
  },
  {
   "cell_type": "code",
   "execution_count": 152,
   "metadata": {},
   "outputs": [
    {
     "name": "stderr",
     "output_type": "stream",
     "text": [
      "c:\\users\\asus\\appdata\\local\\programs\\python\\python37\\lib\\site-packages\\sklearn\\ensemble\\weight_boosting.py:29: DeprecationWarning: numpy.core.umath_tests is an internal NumPy module and should not be imported. It will be removed in a future NumPy release.\n",
      "  from numpy.core.umath_tests import inner1d\n"
     ]
    }
   ],
   "source": [
    "from sklearn.ensemble import RandomForestClassifier\n",
    "\n",
    "pl_random_forest_tf_idf = Pipeline(steps=[('tfidf',Text2TfIdfTransformer()),\n",
    "                                   ('random_forest', RandomForestClassifier())])"
   ]
  },
  {
   "cell_type": "code",
   "execution_count": 153,
   "metadata": {},
   "outputs": [
    {
     "data": {
      "text/plain": [
       "Pipeline(memory=None,\n",
       "     steps=[('tfidf', Text2TfIdfTransformer()), ('random_forest', RandomForestClassifier(bootstrap=True, class_weight=None, criterion='gini',\n",
       "            max_depth=None, max_features='auto', max_leaf_nodes=None,\n",
       "            min_impurity_decrease=0.0, min_impurity_split=None,\n",
       "            min_samples_leaf=1, min_samples_split=2,\n",
       "            min_weight_fraction_leaf=0.0, n_estimators=10, n_jobs=1,\n",
       "            oob_score=False, random_state=None, verbose=0,\n",
       "            warm_start=False))])"
      ]
     },
     "execution_count": 153,
     "metadata": {},
     "output_type": "execute_result"
    }
   ],
   "source": [
    "pl_random_forest_tf_idf.fit(xTrain, yTrain)"
   ]
  },
  {
   "cell_type": "code",
   "execution_count": 154,
   "metadata": {},
   "outputs": [],
   "source": [
    "preds = pl_random_forest_tf_idf.predict(xTest)"
   ]
  },
  {
   "cell_type": "code",
   "execution_count": 155,
   "metadata": {},
   "outputs": [
    {
     "data": {
      "text/plain": [
       "0.9863147605083089"
      ]
     },
     "execution_count": 155,
     "metadata": {},
     "output_type": "execute_result"
    }
   ],
   "source": [
    "from sklearn.metrics import accuracy_score\n",
    "score = accuracy_score(yTest, preds)\n",
    "score"
   ]
  },
  {
   "cell_type": "markdown",
   "metadata": {},
   "source": [
    "## Testing Random Forest"
   ]
  },
  {
   "cell_type": "code",
   "execution_count": 161,
   "metadata": {},
   "outputs": [
    {
     "name": "stdout",
     "output_type": "stream",
     "text": [
      "array_literal_local_array.swift: go\n",
      "authentication.py: py\n",
      "bridging.swift: swift\n",
      "category_handler.py: py\n",
      "compressed.js: js\n",
      "ErrorBridging.swift: swift\n",
      "error_handler.py: py\n",
      "index.js: js\n",
      "main.js: js\n",
      "makeTapReport.m: js\n",
      "Messentrypage.js: js\n",
      "modernizr-2.6.2.min.js: js\n",
      "Notifications.js: js\n",
      "runMatlab2TikzTests.m: js\n",
      "switcher.js: js\n",
      "test.go: go\n",
      "tests.sh: sh\n",
      "user_manager.py: py\n",
      "Time Taken:   0.1934823989868164\n"
     ]
    }
   ],
   "source": [
    "from time import time\n",
    "\n",
    "start = time()\n",
    "\n",
    "filenames, texts = test_on_directory_for_xg('./test')\n",
    "preds = pl_random_forest_tf_idf.predict(texts)\n",
    "\n",
    "for filename, i in zip(filenames, preds):\n",
    "    print(filename, i, sep=': ')\n",
    "    \n",
    "print('Time Taken:  ', time() - start)"
   ]
  },
  {
   "cell_type": "markdown",
   "metadata": {},
   "source": [
    "## Time Taken:   0.1934823989868164\n",
    "## Accuray: 0.9863147605083089"
   ]
  },
  {
   "cell_type": "code",
   "execution_count": null,
   "metadata": {},
   "outputs": [],
   "source": []
  }
 ],
 "metadata": {
  "kernelspec": {
   "display_name": "Python 3",
   "language": "python",
   "name": "python3"
  },
  "language_info": {
   "codemirror_mode": {
    "name": "ipython",
    "version": 3
   },
   "file_extension": ".py",
   "mimetype": "text/x-python",
   "name": "python",
   "nbconvert_exporter": "python",
   "pygments_lexer": "ipython3",
   "version": "3.7.2"
  }
 },
 "nbformat": 4,
 "nbformat_minor": 2
}
